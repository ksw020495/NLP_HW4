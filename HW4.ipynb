{
 "cells": [
  {
   "cell_type": "code",
   "execution_count": 2,
   "id": "555f7b35",
   "metadata": {},
   "outputs": [],
   "source": [
    "#讀檔\n",
    "import json\n",
    "\n",
    "text = []\n",
    "for i in range(65,78):\n",
    "    range_2 = 10\n",
    "    if i == 77:\n",
    "        range_2 = 8\n",
    "    for j in range(range_2):\n",
    "        range_3 = 10\n",
    "        if i == 77 and j == 7:\n",
    "            range_3 = 4\n",
    "        for l in range(range_3):\n",
    "            path = 'wiki_zh/A' + chr(i) + '/wiki_' + str(j) + str(l)\n",
    "\n",
    "            input_file = open(path, encoding = 'utf8')\n",
    "            for line in input_file.readlines():\n",
    "                text.append(json.loads(line))\n",
    "            input_file.close()\n",
    "            "
   ]
  },
  {
   "cell_type": "code",
   "execution_count": 3,
   "id": "236f98c4",
   "metadata": {},
   "outputs": [],
   "source": [
    "#簡轉繁\n",
    "from opencc import OpenCC\n",
    "\n",
    "cc = OpenCC('s2t')\n",
    "\n",
    "for item in text:\n",
    "    item['title'] = cc.convert(item['title'])\n",
    "    item['text'] = cc.convert(item['text'])"
   ]
  },
  {
   "cell_type": "code",
   "execution_count": 4,
   "id": "9b1231e8",
   "metadata": {},
   "outputs": [
    {
     "name": "stderr",
     "output_type": "stream",
     "text": [
      "Building prefix dict from the default dictionary ...\n",
      "Dumping model to file cache C:\\Users\\UserTest\\AppData\\Local\\Temp\\jieba.cache\n",
      "Loading model cost 1.948 seconds.\n",
      "Prefix dict has been built successfully.\n"
     ]
    }
   ],
   "source": [
    "# 斷詞\n",
    "import jieba\n",
    "\n",
    "fileTrainSeg=[]\n",
    "for i in text:\n",
    "    fileTrainSeg.append([' '.join(list(jieba.cut(i['text'],cut_all=False)))])"
   ]
  },
  {
   "cell_type": "code",
   "execution_count": 6,
   "id": "b7adfe42",
   "metadata": {},
   "outputs": [],
   "source": [
    "#斷詞結果寫檔\n",
    "fileSegWordDonePath ='corpusSegDone.txt'\n",
    "with open(fileSegWordDonePath,'wb') as fW:\n",
    "    for i in range(len(fileTrainSeg)):\n",
    "        fW.write(fileTrainSeg[i][0].encode('utf-8'))\n",
    "        fW.write('\\n'.encode('utf-8'))"
   ]
  },
  {
   "cell_type": "code",
   "execution_count": 5,
   "id": "e39580e2",
   "metadata": {},
   "outputs": [
    {
     "name": "stdout",
     "output_type": "stream",
     "text": [
      "Running command: word2vec -train corpusSegDone.txt -output corpusWord2Vec.txt -size 300 -window 5 -sample 1e-3 -hs 0 -negative 5 -threads 12 -iter 5 -min-count 5 -alpha 0.025 -debug 2 -binary 0 -cbow 1\n",
      "Starting training using file corpusSegDone.txt\n",
      "Vocab size: 9233130KK1500KK800K500K900K\n",
      "Words in train file: 244600906\n"
     ]
    },
    {
     "name": "stdout",
     "output_type": "stream",
     "text": [
      "Alpha: 0.014560  Progress: 41.76%  Words/thread/sec: 102.92k  Words/thread/sec: 10.18k  19.53k  sec: 38.45k  3.60k   .62%  Words/thread/sec: 57.21k  : 0.024839  Progress: 0.65%  Words/thread/sec: 59.16k  .90k  ad/sec: 76.80k  s: 1.29%  Words/thread/sec: 88.45k  s/thread/sec: 90.83k  : 1.40%  Words/thread/sec: 93.24k  Progress: 1.42%  Words/thread/sec: 93.97k    Words/thread/sec: 135.07k  .38k  thread/sec: 137.50k  .20%  Words/thread/sec: 138.00k    Progress: 3.26%  Words/thread/sec: 139.04k  d/sec: 141.41k  32k  %  Words/thread/sec: 143.68k  2k  ords/thread/sec: 149.10k    : 4.28%  Words/thread/sec: 152.75k   4.37%  Words/thread/sec: 153.63k   Words/thread/sec: 154.74k  : 155.00k  .49k  ords/thread/sec: 157.45k  .77k  5.08%  Words/thread/sec: 158.73k   Progress: 5.10%  Words/thread/sec: 158.71k  d/sec: 160.75k  023600  Progress: 5.61%  Words/thread/sec: 161.50k  3%  Words/thread/sec: 162.67k   163.06k    164.21k  0.023328  Progress: 6.69%  Words/thread/sec: 168.25k  3321  Progress: 6.72%  Words/thread/sec: 168.60k   0.023273  Progress: 6.91%  Words/thread/sec: 170.42k  ords/thread/sec: 170.65k  : 170.45k  c: 171.56k  ords/thread/sec: 175.14k  ad/sec: 175.85k  %  Words/thread/sec: 177.46k  ogress: 7.78%  Words/thread/sec: 177.95k    Words/thread/sec: 179.44k  9.94k  09k  22934  Progress: 8.27%  Words/thread/sec: 180.08k  Progress: 8.36%  Words/thread/sec: 179.83k   Progress: 8.48%  Words/thread/sec: 180.07k  s/thread/sec: 180.91k  d/sec: 180.76k   9.75%  Words/thread/sec: 138.19k  9.83%  Words/thread/sec: 134.48k  Words/thread/sec: 134.38k  ress: 10.05%  Words/thread/sec: 134.74k  lpha: 0.022458  Progress: 10.17%  Words/thread/sec: 135.12k  0.022293  Progress: 10.83%  Words/thread/sec: 138.01k   0.022284  Progress: 10.87%  Words/thread/sec: 137.85k  ad/sec: 137.69k  0.022225  Progress: 11.11%  Words/thread/sec: 138.30k  rds/thread/sec: 138.62k  ress: 11.44%  Words/thread/sec: 139.45k  sec: 140.14k  sec: 141.49k  lpha: 0.021962  Progress: 12.16%  Words/thread/sec: 143.11k  021946  Progress: 12.22%  Words/thread/sec: 143.38k   0.021881  Progress: 12.48%  Words/thread/sec: 144.57k  ec: 144.56k  k  75k  read/sec: 136.34k  lpha: 0.021505  Progress: 13.99%  Words/thread/sec: 136.48k    Words/thread/sec: 136.14k  s: 14.08%  Words/thread/sec: 136.09k  : 135.98k  ords/thread/sec: 135.68k  read/sec: 135.70k  c: 135.96k  lpha: 0.021284  Progress: 14.87%  Words/thread/sec: 136.08k  rds/thread/sec: 136.21k  0%  Words/thread/sec: 136.14k  36.06k  ec: 135.09k  33  Progress: 15.87%  Words/thread/sec: 133.71k  94%  Words/thread/sec: 133.24k  /sec: 133.20k  s: 16.32%  Words/thread/sec: 117.23k    Words/thread/sec: 117.23k  %  Words/thread/sec: 117.27k  : 0.020885  Progress: 16.46%  Words/thread/sec: 117.34k  6.48%  Words/thread/sec: 117.40k  .63k  s/thread/sec: 118.23k  s: 17.06%  Words/thread/sec: 118.33k  pha: 0.020725  Progress: 17.10%  Words/thread/sec: 118.50k  %  Words/thread/sec: 119.14k  ss: 17.99%  Words/thread/sec: 121.29k  ss: 18.08%  Words/thread/sec: 121.52k   ress: 18.38%  Words/thread/sec: 122.31k    Progress: 19.04%  Words/thread/sec: 116.55k  9.11%  Words/thread/sec: 116.67k  185  Progress: 19.26%  Words/thread/sec: 116.98k  ds/thread/sec: 117.08k  ress: 19.81%  Words/thread/sec: 118.25k  : 19.93%  Words/thread/sec: 118.37k  pha: 0.019995  Progress: 20.03%  Words/thread/sec: 118.43k   118.65k  ess: 20.33%  Words/thread/sec: 118.71k  18.71k    8.74k  read/sec: 118.73k  thread/sec: 118.81k  0  Progress: 20.52%  Words/thread/sec: 118.92k  0.69%  Words/thread/sec: 119.40k  .47k   20.85%  Words/thread/sec: 119.63k  ec: 120.00k   21.19%  Words/thread/sec: 117.99k  1.26%  Words/thread/sec: 117.07k  /sec: 117.04k  634  Progress: 21.47%  Words/thread/sec: 116.97k   Progress: 21.51%  Words/thread/sec: 116.84k   d/sec: 117.51k  lpha: 0.019458  Progress: 22.17%  Words/thread/sec: 118.05k  lpha: 0.019432  Progress: 22.27%  Words/thread/sec: 118.26k  c: 118.37k  pha: 0.019398  Progress: 22.41%  Words/thread/sec: 118.26k  ds/thread/sec: 118.46k  ords/thread/sec: 118.32k  23.56%  Words/thread/sec: 108.37k   108.96k   109.09k  thread/sec: 109.24k    .018788  Progress: 24.85%  Words/thread/sec: 110.53k  24.96%  Words/thread/sec: 110.67k   7%  Words/thread/sec: 110.86k  25.21%  Words/thread/sec: 110.91k  c: 111.03k  ords/thread/sec: 108.44k  a: 0.018542  Progress: 25.84%  Words/thread/sec: 107.43k  ords/thread/sec: 107.57k  : 26.13%  Words/thread/sec: 105.89k  Progress: 26.25%  Words/thread/sec: 105.80k  /sec: 103.20k  6.52%  Words/thread/sec: 102.21k  4%  Words/thread/sec: 102.25k  ss: 26.67%  Words/thread/sec: 102.39k  gress: 26.68%  Words/thread/sec: 102.41k  6.74%  Words/thread/sec: 102.51k    : 100.91k      Words/thread/sec: 101.75k  .018009  Progress: 27.97%  Words/thread/sec: 101.81k  .83k  001  Progress: 28.00%  Words/thread/sec: 101.86k  0.017995  Progress: 28.02%  Words/thread/sec: 101.91k  017928  Progress: 28.29%  Words/thread/sec: 102.28k   lpha: 0.017853  Progress: 28.59%  Words/thread/sec: 102.58k  .017849  Progress: 28.61%  Words/thread/sec: 102.60k   Words/thread/sec: 102.67k  17819  Progress: 28.73%  Words/thread/sec: 102.64k  /sec: 102.80k   0.017768  Progress: 28.93%  Words/thread/sec: 102.97k  0.017743  Progress: 29.03%  Words/thread/sec: 103.16k   0.017717  Progress: 29.14%  Words/thread/sec: 103.33k  6k  103.44k  pha: 0.017647  Progress: 29.42%  Words/thread/sec: 103.77k  sec: 101.13k  7584  Progress: 29.67%  Words/thread/sec: 101.13k  ds/thread/sec: 98.21k  7452  Progress: 30.20%  Words/thread/sec: 98.23k   Words/thread/sec: 98.27k  : 30.30%  Words/thread/sec: 98.42k   98.45k  ha: 0.017391  Progress: 30.44%  Words/thread/sec: 98.45k  read/sec: 98.70k  ad/sec: 98.73k  99.19k  ess: 31.02%  Words/thread/sec: 99.37k  ds/thread/sec: 99.59k  %  Words/thread/sec: 100.04k    %  Words/thread/sec: 100.29k    Progress: 31.63%  Words/thread/sec: 100.43k  7076  Progress: 31.70%  Words/thread/sec: 100.58k  17033  Progress: 31.87%  Words/thread/sec: 100.88k   32.05%  Words/thread/sec: 101.07k  k  ss: 32.32%  Words/thread/sec: 101.56k  : 101.73k  : 0.016827  Progress: 32.70%  Words/thread/sec: 102.16k  72k    Progress: 33.13%  Words/thread/sec: 102.75k   33.29%  Words/thread/sec: 102.90k  sec: 102.96k  /thread/sec: 103.31k  ec: 103.58k  /thread/sec: 104.25k  c: 104.38k  lpha: 0.016377  Progress: 34.49%  Words/thread/sec: 104.76k   34.66%  Words/thread/sec: 105.09k  d/sec: 105.13k  rds/thread/sec: 105.16k  thread/sec: 103.95k  4.94%  Words/thread/sec: 104.00k  s: 35.17%  Words/thread/sec: 102.86k  lpha: 0.016203  Progress: 35.19%  Words/thread/sec: 102.76k  ds/thread/sec: 102.54k  d/sec: 101.91k  thread/sec: 98.12k  17%  Words/thread/sec: 98.55k  015931  Progress: 36.28%  Words/thread/sec: 98.70k  ds/thread/sec: 98.71k  .45%  Words/thread/sec: 98.84k  ess: 36.72%  Words/thread/sec: 99.22k  .40k  pha: 0.015737  Progress: 37.06%  Words/thread/sec: 99.78k  pha: 0.015723  Progress: 37.11%  Words/thread/sec: 99.83k  lpha: 0.015663  Progress: 37.35%  Words/thread/sec: 100.19k  .54%  Words/thread/sec: 100.42k  Progress: 37.82%  Words/thread/sec: 100.88k  00.92k  ss: 37.93%  Words/thread/sec: 101.07k  lpha: 0.015488  Progress: 38.05%  Words/thread/sec: 101.26k  38.07%  Words/thread/sec: 101.30k  gress: 38.10%  Words/thread/sec: 101.34k  01.44k  thread/sec: 101.56k  6%  Words/thread/sec: 101.75k   0.015360  Progress: 38.56%  Words/thread/sec: 102.02k  51  Progress: 38.60%  Words/thread/sec: 102.09k  pha: 0.015347  Progress: 38.62%  Words/thread/sec: 102.09k  a: 0.015331  Progress: 38.68%  Words/thread/sec: 102.19k  ogress: 39.17%  Words/thread/sec: 102.82k  .26%  Words/thread/sec: 102.89k   Progress: 39.79%  Words/thread/sec: 103.60k  .89%  Words/thread/sec: 103.68k  ec: 103.64k  ords/thread/sec: 103.81k  ords/thread/sec: 103.96k  014924  Progress: 40.31%  Words/thread/sec: 104.18k  rds/thread/sec: 104.38k  ords/thread/sec: 104.53k  lpha: 0.014810  Progress: 40.77%  Words/thread/sec: 104.63k  81%  Words/thread/sec: 104.64k  /sec: 104.77k  ad/sec: 104.47k  s: 41.06%  Words/thread/sec: 104.40k  sec: 102.53k  623  Progress: 41.51%  Words/thread/sec: 102.68k    Progress: 41.53%  Words/thread/sec: 102.71k     0.014566  Progress: 41.74%  Words/thread/sec: 102.90k  lpha: 0.014562  Progress: 41.76%  Words/thread/sec: 102.91k  Alpha: 0.002675  Progress: 89.31%  Words/thread/sec: 110.49k  ress: 41.81%  Words/thread/sec: 102.89k  rds/thread/sec: 103.13k  hread/sec: 103.13k  pha: 0.014450  Progress: 42.20%  Words/thread/sec: 103.18k  : 103.20k  ss: 42.24%  Words/thread/sec: 103.20k  ead/sec: 103.39k  ha: 0.014331  Progress: 42.68%  Words/thread/sec: 103.60k  .014320  Progress: 42.72%  Words/thread/sec: 103.62k  : 42.96%  Words/thread/sec: 103.60k  pha: 0.014168  Progress: 43.33%  Words/thread/sec: 103.93k  43.45%  Words/thread/sec: 104.08k  lpha: 0.014085  Progress: 43.66%  Words/thread/sec: 104.24k   104.30k  ess: 43.83%  Words/thread/sec: 104.29k  ss: 43.96%  Words/thread/sec: 104.41k  ogress: 44.07%  Words/thread/sec: 104.54k    k   Progress: 44.30%  Words/thread/sec: 104.75k  0.013801  Progress: 44.80%  Words/thread/sec: 105.13k  ss: 45.01%  Words/thread/sec: 104.71k  Progress: 45.02%  Words/thread/sec: 104.64k  ds/thread/sec: 104.09k    ds/thread/sec: 104.22k  lpha: 0.013645  Progress: 45.42%  Words/thread/sec: 104.30k  : 0.013581  Progress: 45.68%  Words/thread/sec: 97.73k    /thread/sec: 97.33k  3478  Progress: 46.09%  Words/thread/sec: 97.29k  Progress: 46.41%  Words/thread/sec: 97.22k  lpha: 0.013384  Progress: 46.47%  Words/thread/sec: 97.30k  : 97.53k   %  Words/thread/sec: 97.71k  Progress: 46.98%  Words/thread/sec: 97.73k   0.013207  Progress: 47.18%  Words/thread/sec: 97.89k  47.18%  Words/thread/sec: 97.89k  .51%  Words/thread/sec: 96.66k  14  Progress: 47.55%  Words/thread/sec: 96.40k  hread/sec: 96.44k   48.20%  Words/thread/sec: 97.03k  rogress: 48.40%  Words/thread/sec: 97.17k  : 48.51%  Words/thread/sec: 97.30k  sec: 97.69k  8.93%  Words/thread/sec: 97.76k  .012717  Progress: 49.14%  Words/thread/sec: 98.03k  %  Words/thread/sec: 98.21k  rogress: 49.48%  Words/thread/sec: 98.42k  20  Progress: 49.53%  Words/thread/sec: 98.46k  : 98.71k  3  Progress: 49.87%  Words/thread/sec: 98.86k  5k  0.012495  Progress: 50.02%  Words/thread/sec: 99.06k  2  Progress: 50.28%  Words/thread/sec: 99.37k  s: 50.59%  Words/thread/sec: 99.69k  ds/thread/sec: 99.38k  pha: 0.012151  Progress: 51.40%  Words/thread/sec: 99.55k  ogress: 51.45%  Words/thread/sec: 99.58k  ords/thread/sec: 99.80k  /sec: 100.09k    Words/thread/sec: 100.12k  s/thread/sec: 100.17k  ss: 52.07%  Words/thread/sec: 100.26k  ess: 52.12%  Words/thread/sec: 100.31k  011915  Progress: 52.35%  Words/thread/sec: 100.54k  lpha: 0.011911  Progress: 52.36%  Words/thread/sec: 100.55k  0.011906  Progress: 52.38%  Words/thread/sec: 100.56k  0.66k  .81k  9%  Words/thread/sec: 100.87k   0.011826  Progress: 52.70%  Words/thread/sec: 100.88k  ad/sec: 100.97k  1786  Progress: 52.86%  Words/thread/sec: 101.01k  769  Progress: 52.93%  Words/thread/sec: 101.09k  .04%  Words/thread/sec: 101.18k  53.24%  Words/thread/sec: 101.34k  ec: 101.62k  Words/thread/sec: 101.74k  k  pha: 0.011563  Progress: 53.75%  Words/thread/sec: 101.89k  53.98%  Words/thread/sec: 102.17k  2.83k  rds/thread/sec: 102.86k     Words/thread/sec: 103.10k  4.93%  Words/thread/sec: 103.04k  011234  Progress: 55.07%  Words/thread/sec: 102.56k  %  Words/thread/sec: 102.78k  ss: 55.57%  Words/thread/sec: 102.89k  .84%  Words/thread/sec: 103.19k  ha: 0.010998  Progress: 56.01%  Words/thread/sec: 103.37k     Words/thread/sec: 103.53k   0.010796  Progress: 56.82%  Words/thread/sec: 103.16k  ogress: 57.01%  Words/thread/sec: 103.37k    Progress: 57.14%  Words/thread/sec: 103.51k  a: 0.010710  Progress: 57.16%  Words/thread/sec: 103.54k  a: 0.010703  Progress: 57.19%  Words/thread/sec: 103.57k   Words/thread/sec: 103.58k  d/sec: 103.75k   rogress: 57.54%  Words/thread/sec: 103.90k    Words/thread/sec: 104.08k  0457  Progress: 58.18%  Words/thread/sec: 104.52k  /thread/sec: 104.58k  s/thread/sec: 104.64k  s: 58.90%  Words/thread/sec: 104.34k  ss: 59.30%  Words/thread/sec: 101.71k  s: 59.33%  Words/thread/sec: 101.69k  a: 0.010112  Progress: 59.56%  Words/thread/sec: 100.29k  : 59.57%  Words/thread/sec: 100.27k  0041  Progress: 59.84%  Words/thread/sec: 99.63k  0  Progress: 59.88%  Words/thread/sec: 99.67k    ad/sec: 99.74k   0.009972  Progress: 60.12%  Words/thread/sec: 99.87k  rds/thread/sec: 99.89k  .009929  Progress: 60.29%  Words/thread/sec: 100.03k  840  Progress: 60.64%  Words/thread/sec: 100.32k  .009805  Progress: 60.79%  Words/thread/sec: 100.46k  0.91%  Words/thread/sec: 100.57k  ss: 60.96%  Words/thread/sec: 100.61k  rds/thread/sec: 100.73k  .57%  Words/thread/sec: 101.11k  ss: 62.21%  Words/thread/sec: 101.55k  thread/sec: 101.58k  ead/sec: 101.59k   Progress: 62.27%  Words/thread/sec: 101.61k  s: 62.61%  Words/thread/sec: 101.94k   0.009281  Progress: 62.88%  Words/thread/sec: 102.18k   102.20k  rds/thread/sec: 102.14k  .008896  Progress: 64.42%  Words/thread/sec: 101.88k  sec: 102.19k  82%  Words/thread/sec: 102.19k  sec: 102.26k  lpha: 0.008694  Progress: 65.23%  Words/thread/sec: 102.43k  a: 0.008631  Progress: 65.48%  Words/thread/sec: 102.66k  2.89k  .008527  Progress: 65.90%  Words/thread/sec: 103.00k  06  Progress: 65.98%  Words/thread/sec: 103.09k   Progress: 66.06%  Words/thread/sec: 103.14k  008470  Progress: 66.12%  Words/thread/sec: 103.20k  ec: 103.20k  103.32k   Words/thread/sec: 103.14k   Progress: 66.61%  Words/thread/sec: 102.81k  s: 66.82%  Words/thread/sec: 102.41k  Progress: 66.98%  Words/thread/sec: 102.35k  ress: 67.07%  Words/thread/sec: 102.36k  124  Progress: 67.51%  Words/thread/sec: 102.76k   Words/thread/sec: 103.04k    Progress: 67.83%  Words/thread/sec: 103.07k  95%  Words/thread/sec: 103.17k  103.17k    : 69.52%  Words/thread/sec: 103.30k  rds/thread/sec: 103.38k  0.007466  Progress: 70.14%  Words/thread/sec: 103.44k  : 70.18%  Words/thread/sec: 103.45k  .52%  Words/thread/sec: 103.73k  hread/sec: 103.78k  lpha: 0.007216  Progress: 71.14%  Words/thread/sec: 104.30k  k  : 0.007146  Progress: 71.42%  Words/thread/sec: 104.49k  91%  Words/thread/sec: 104.75k  rogress: 72.43%  Words/thread/sec: 103.06k  06894  Progress: 72.43%  Words/thread/sec: 103.06k  46%  Words/thread/sec: 102.90k  ec: 102.44k  72.76%  Words/thread/sec: 101.93k  12%  Words/thread/sec: 102.17k  : 73.27%  Words/thread/sec: 102.29k  6654  Progress: 73.39%  Words/thread/sec: 102.39k  a: 0.006633  Progress: 73.47%  Words/thread/sec: 102.44k   Words/thread/sec: 102.44k  ss: 73.56%  Words/thread/sec: 102.44k   0.006582  Progress: 73.68%  Words/thread/sec: 102.53k   Words/thread/sec: 102.57k  0k   103.08k   ss: 75.69%  Words/thread/sec: 104.10k  : 75.81%  Words/thread/sec: 104.20k  8  Progress: 76.29%  Words/thread/sec: 104.56k  76.31%  Words/thread/sec: 104.56k  a: 0.005921  Progress: 76.32%  Words/thread/sec: 104.56k  6.95%  Words/thread/sec: 105.01k  Progress: 77.37%  Words/thread/sec: 105.32k  612  Progress: 77.56%  Words/thread/sec: 105.43k  5583  Progress: 77.67%  Words/thread/sec: 105.51k  read/sec: 105.52k  : 105.54k   78.41%  Words/thread/sec: 105.86k   78.51%  Words/thread/sec: 105.56k   0.005213  Progress: 79.15%  Words/thread/sec: 105.91k  %  Words/thread/sec: 105.93k  : 79.18%  Words/thread/sec: 105.93k  thread/sec: 105.98k  073  Progress: 79.71%  Words/thread/sec: 106.30k  Progress: 79.73%  Words/thread/sec: 106.32k  .71k    rogress: 80.78%  Words/thread/sec: 107.09k  read/sec: 107.39k  1k  0%  Words/thread/sec: 107.59k  ogress: 81.97%  Words/thread/sec: 107.94k  26%  Words/thread/sec: 108.10k  08.39k  pha: 0.004274  Progress: 82.91%  Words/thread/sec: 108.57k  ead/sec: 108.61k  ad/sec: 108.52k  gress: 83.18%  Words/thread/sec: 108.50k  08.24k  c: 108.42k  7  Progress: 84.26%  Words/thread/sec: 108.83k  a: 0.003919  Progress: 84.33%  Words/thread/sec: 108.88k  7k  d/sec: 109.13k  /sec: 109.55k  34  Progress: 85.47%  Words/thread/sec: 109.70k  9k  : 0.003510  Progress: 85.96%  Words/thread/sec: 110.07k   Words/thread/sec: 110.24k  lpha: 0.003430  Progress: 86.28%  Words/thread/sec: 110.28k  lpha: 0.003423  Progress: 86.31%  Words/thread/sec: 110.28k  ess: 86.75%  Words/thread/sec: 110.59k  d/sec: 110.65k   110.68k  26%  Words/thread/sec: 110.81k  sec: 110.82k  : 87.38%  Words/thread/sec: 110.89k  read/sec: 111.53k  rds/thread/sec: 111.56k   88.87%  Words/thread/sec: 110.80k  lpha: 0.002754  Progress: 88.99%  Words/thread/sec: 110.74k  78  Progress: 89.29%  Words/thread/sec: 110.48k  "
     ]
    },
    {
     "name": "stdout",
     "output_type": "stream",
     "text": [
      "Alpha: 0.000020  Progress: 99.92%  Words/thread/sec: 113.17k  46%  Words/thread/sec: 109.80k  32  Progress: 89.48%  Words/thread/sec: 109.80k   89.51%  Words/thread/sec: 109.79k  rogress: 89.89%  Words/thread/sec: 109.36k  Progress: 89.94%  Words/thread/sec: 109.40k   Words/thread/sec: 109.47k  sec: 109.49k  9.66k  hread/sec: 109.68k  lpha: 0.002290  Progress: 90.85%  Words/thread/sec: 109.88k  /thread/sec: 110.07k   Progress: 91.39%  Words/thread/sec: 110.08k  49%  Words/thread/sec: 110.15k  2113  Progress: 91.55%  Words/thread/sec: 110.20k  a: 0.002109  Progress: 91.57%  Words/thread/sec: 110.21k  hread/sec: 110.35k  10.70k  read/sec: 110.59k  sec: 110.64k  s: 93.70%  Words/thread/sec: 110.93k  527  Progress: 93.90%  Words/thread/sec: 111.05k  466  Progress: 94.14%  Words/thread/sec: 111.22k  gress: 94.39%  Words/thread/sec: 111.41k   Progress: 94.82%  Words/thread/sec: 111.70k  read/sec: 111.89k  .97k  : 0.001097  Progress: 95.61%  Words/thread/sec: 112.23k  001091  Progress: 95.64%  Words/thread/sec: 112.25k  %  Words/thread/sec: 112.30k  ss: 96.39%  Words/thread/sec: 112.08k  .000851  Progress: 96.60%  Words/thread/sec: 111.58k  4  Progress: 96.63%  Words/thread/sec: 111.61k  Words/thread/sec: 111.69k  ogress: 97.13%  Words/thread/sec: 111.79k  a: 0.000676  Progress: 97.30%  Words/thread/sec: 111.86k  97.54%  Words/thread/sec: 111.94k  lpha: 0.000474  Progress: 98.11%  Words/thread/sec: 112.32k   Progress: 98.73%  Words/thread/sec: 112.70k  ec: 112.96k  "
     ]
    }
   ],
   "source": [
    "# jieba分詞轉word2vec向量\n",
    "import word2vec\n",
    "\n",
    "word2vec.word2vec('corpusSegDone.txt', 'corpusWord2Vec.txt', size=300,verbose=True)"
   ]
  },
  {
   "cell_type": "code",
   "execution_count": 17,
   "id": "ba424103",
   "metadata": {},
   "outputs": [],
   "source": [
    "import word2vec\n",
    "\n",
    "#驗證\n",
    "model = word2vec.load('corpusWord2Vec.txt')"
   ]
  }
 ],
 "metadata": {
  "kernelspec": {
   "display_name": "Python 3",
   "language": "python",
   "name": "python3"
  },
  "language_info": {
   "codemirror_mode": {
    "name": "ipython",
    "version": 3
   },
   "file_extension": ".py",
   "mimetype": "text/x-python",
   "name": "python",
   "nbconvert_exporter": "python",
   "pygments_lexer": "ipython3",
   "version": "3.8.8"
  }
 },
 "nbformat": 4,
 "nbformat_minor": 5
}
