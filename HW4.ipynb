{
 "cells": [
  {
   "cell_type": "code",
   "execution_count": 2,
   "id": "555f7b35",
   "metadata": {},
   "outputs": [],
   "source": [
    "#讀檔\n",
    "import json\n",
    "\n",
    "text = []\n",
    "for i in range(65,78):\n",
    "    range_2 = 10\n",
    "    if i == 77:\n",
    "        range_2 = 8\n",
    "    for j in range(range_2):\n",
    "        range_3 = 10\n",
    "        if i == 77 and j == 7:\n",
    "            range_3 = 4\n",
    "        for l in range(range_3):\n",
    "            path = 'wiki_zh/A' + chr(i) + '/wiki_' + str(j) + str(l)\n",
    "\n",
    "            input_file = open(path, encoding = 'utf8')\n",
    "            for line in input_file.readlines():\n",
    "                text.append(json.loads(line))\n",
    "            input_file.close()\n",
    "            "
   ]
  },
  {
   "cell_type": "code",
   "execution_count": 3,
   "id": "236f98c4",
   "metadata": {},
   "outputs": [],
   "source": [
    "#簡轉繁\n",
    "from opencc import OpenCC\n",
    "\n",
    "cc = OpenCC('s2t')\n",
    "\n",
    "for item in text:\n",
    "    item['title'] = cc.convert(item['title'])\n",
    "    item['text'] = cc.convert(item['text'])"
   ]
  },
  {
   "cell_type": "code",
   "execution_count": 4,
   "id": "9b1231e8",
   "metadata": {},
   "outputs": [
    {
     "name": "stderr",
     "output_type": "stream",
     "text": [
      "Building prefix dict from the default dictionary ...\n",
      "Dumping model to file cache C:\\Users\\UserTest\\AppData\\Local\\Temp\\jieba.cache\n",
      "Loading model cost 1.948 seconds.\n",
      "Prefix dict has been built successfully.\n"
     ]
    }
   ],
   "source": [
    "# 斷詞\n",
    "import jieba\n",
    "\n",
    "fileTrainSeg=[]\n",
    "for i in text:\n",
    "    fileTrainSeg.append([' '.join(list(jieba.cut(i['text'],cut_all=False)))])"
   ]
  },
  {
   "cell_type": "code",
   "execution_count": 6,
   "id": "b7adfe42",
   "metadata": {},
   "outputs": [],
   "source": [
    "#斷詞結果寫檔\n",
    "fileSegWordDonePath ='corpusSegDone.txt'\n",
    "with open(fileSegWordDonePath,'wb') as fW:\n",
    "    for i in range(len(fileTrainSeg)):\n",
    "        fW.write(fileTrainSeg[i][0].encode('utf-8'))\n",
    "        fW.write('\\n'.encode('utf-8'))"
   ]
  },
  {
   "cell_type": "code",
   "execution_count": 2,
   "id": "e39580e2",
   "metadata": {},
   "outputs": [
    {
     "name": "stdout",
     "output_type": "stream",
     "text": [
      "Running command: word2vec -train corpusSegDone.txt -output corpusWord2Vec.bin -size 300 -window 5 -sample 1e-3 -hs 0 -negative 5 -threads 12 -iter 5 -min-count 5 -alpha 0.025 -debug 2 -binary 0 -cbow 1\n",
      "Starting training using file corpusSegDone.txt\n",
      "Vocab size: 923313200K0900K00K\n",
      "Words in train file: 244600906\n"
     ]
    },
    {
     "name": "stdout",
     "output_type": "stream",
     "text": [
      "Alpha: 0.015685  Progress: 37.27%  Words/thread/sec: 159.46k  ss: 0.01%  Words/thread/sec: 17.58k  lpha: 0.024982  Progress: 0.07%  Words/thread/sec: 70.02k  914  Progress: 0.35%  Words/thread/sec: 100.15k  37%  Words/thread/sec: 104.21k  7.96k  ess: 0.60%  Words/thread/sec: 124.74k  /thread/sec: 89.67k  792  Progress: 0.84%  Words/thread/sec: 75.47k  34%  Words/thread/sec: 92.56k  %  Words/thread/sec: 93.18k  08  Progress: 1.57%  Words/thread/sec: 99.85k   0.024583  Progress: 1.67%  Words/thread/sec: 102.93k  24572  Progress: 1.71%  Words/thread/sec: 104.29k  Progress: 1.83%  Words/thread/sec: 106.82k  rds/thread/sec: 113.08k  hread/sec: 112.79k  19%  Words/thread/sec: 115.68k  ds/thread/sec: 117.00k    Progress: 2.33%  Words/thread/sec: 120.00k  k  4348  Progress: 2.61%  Words/thread/sec: 126.34k  read/sec: 136.12k  rds/thread/sec: 138.77k  ords/thread/sec: 145.62k  pha: 0.023887  Progress: 4.46%  Words/thread/sec: 154.99k  ha: 0.023866  Progress: 4.54%  Words/thread/sec: 155.93k  0.023788  Progress: 4.85%  Words/thread/sec: 159.11k  thread/sec: 160.51k  : 0.023732  Progress: 5.07%  Words/thread/sec: 161.34k  3707  Progress: 5.18%  Words/thread/sec: 162.72k  .023701  Progress: 5.20%  Words/thread/sec: 163.05k  .10k   0.023652  Progress: 5.40%  Words/thread/sec: 164.79k  23644  Progress: 5.43%  Words/thread/sec: 164.90k  .71k  5.70k  c: 166.81k  : 5.78%  Words/thread/sec: 167.28k  rds/thread/sec: 167.55k  rogress: 6.21%  Words/thread/sec: 166.91k  rogress: 6.26%  Words/thread/sec: 166.83k  9k  a: 0.023407  Progress: 6.38%  Words/thread/sec: 166.75k  4  Progress: 6.43%  Words/thread/sec: 166.64k  6.47%  Words/thread/sec: 166.44k  ds/thread/sec: 166.40k  ead/sec: 166.45k  /thread/sec: 166.20k  023265  Progress: 6.95%  Words/thread/sec: 166.27k  ds/thread/sec: 165.82k  5.44k  Progress: 7.26%  Words/thread/sec: 165.57k  7.53%  Words/thread/sec: 166.79k   166.17k   Progress: 7.64%  Words/thread/sec: 164.83k   Words/thread/sec: 165.21k  lpha: 0.023051  Progress: 7.80%  Words/thread/sec: 153.74k  Progress: 7.88%  Words/thread/sec: 151.44k  c: 151.74k  ec: 152.08k  hread/sec: 152.81k  : 0.022961  Progress: 8.16%  Words/thread/sec: 153.46k  s/thread/sec: 153.75k  : 8.59%  Words/thread/sec: 155.22k  lpha: 0.022840  Progress: 8.64%  Words/thread/sec: 155.51k  .61k  lpha: 0.022783  Progress: 8.87%  Words/thread/sec: 156.68k    Progress: 8.92%  Words/thread/sec: 157.05k  2763  Progress: 8.95%  Words/thread/sec: 157.32k  ds/thread/sec: 120.32k  ess: 9.60%  Words/thread/sec: 122.17k  122.72k    Words/thread/sec: 124.60k  pha: 0.022494  Progress: 10.03%  Words/thread/sec: 124.54k  k  0.29%  Words/thread/sec: 126.24k  %  Words/thread/sec: 126.56k  0.50%  Words/thread/sec: 127.67k  ogress: 10.53%  Words/thread/sec: 127.87k   0.022351  Progress: 10.60%  Words/thread/sec: 128.29k  ress: 10.65%  Words/thread/sec: 128.66k  31.12k  5k  132.62k  pha: 0.022126  Progress: 11.50%  Words/thread/sec: 133.25k  /sec: 111.76k  38  Progress: 12.25%  Words/thread/sec: 112.05k  : 12.70%  Words/thread/sec: 114.32k  a: 0.021808  Progress: 12.77%  Words/thread/sec: 114.74k  d/sec: 115.04k  lpha: 0.021753  Progress: 12.99%  Words/thread/sec: 115.55k  .59k  k  pha: 0.021720  Progress: 13.13%  Words/thread/sec: 116.07k  /sec: 116.29k  6.37k  : 0.021671  Progress: 13.32%  Words/thread/sec: 117.00k   118.31k  1536  Progress: 13.86%  Words/thread/sec: 118.85k  9.16k   119.35k  021472  Progress: 14.12%  Words/thread/sec: 119.92k  s: 14.38%  Words/thread/sec: 120.77k  k  : 14.58%  Words/thread/sec: 120.59k  5%  Words/thread/sec: 113.56k  8  Progress: 14.97%  Words/thread/sec: 113.63k  s/thread/sec: 114.18k  188  Progress: 15.25%  Words/thread/sec: 114.42k  4.09k  ogress: 15.52%  Words/thread/sec: 112.11k  /sec: 111.92k  ress: 15.54%  Words/thread/sec: 111.28k  021106  Progress: 15.58%  Words/thread/sec: 111.47k  ess: 15.68%  Words/thread/sec: 110.81k  lpha: 0.021052  Progress: 15.80%  Words/thread/sec: 108.08k   6.15%  Words/thread/sec: 109.56k  0.020937  Progress: 16.26%  Words/thread/sec: 109.96k  lpha: 0.020910  Progress: 16.36%  Words/thread/sec: 110.40k  .020808  Progress: 16.77%  Words/thread/sec: 111.92k  12.04k  : 16.82%  Words/thread/sec: 112.13k  read/sec: 112.90k  rds/thread/sec: 113.97k  ss: 17.37%  Words/thread/sec: 114.15k  s/thread/sec: 115.53k    pha: 0.020504  Progress: 17.99%  Words/thread/sec: 116.16k   116.54k  lpha: 0.020427  Progress: 18.30%  Words/thread/sec: 117.23k  ess: 18.42%  Words/thread/sec: 117.69k  : 18.74%  Words/thread/sec: 118.77k  lpha: 0.020281  Progress: 18.88%  Words/thread/sec: 119.25k  hread/sec: 119.95k  020185  Progress: 19.26%  Words/thread/sec: 120.38k  ad/sec: 120.51k  .76%  Words/thread/sec: 121.93k   Words/thread/sec: 122.46k  0  Progress: 19.96%  Words/thread/sec: 122.64k  .019943  Progress: 20.23%  Words/thread/sec: 123.50k  /thread/sec: 123.79k  019803  Progress: 20.79%  Words/thread/sec: 125.09k  : 20.82%  Words/thread/sec: 125.18k    Progress: 20.98%  Words/thread/sec: 125.64k  d/sec: 125.80k  .20%  Words/thread/sec: 126.18k  : 126.25k  /thread/sec: 126.55k   0.019658  Progress: 21.37%  Words/thread/sec: 126.65k  19622  Progress: 21.52%  Words/thread/sec: 127.16k   Words/thread/sec: 127.28k  rds/thread/sec: 127.86k  sec: 127.86k  s/thread/sec: 127.99k  %  Words/thread/sec: 128.15k  %  Words/thread/sec: 128.32k  %  Words/thread/sec: 128.48k  gress: 22.23%  Words/thread/sec: 129.22k  .019379  Progress: 22.49%  Words/thread/sec: 129.85k  ec: 130.13k  d/sec: 130.34k  Words/thread/sec: 130.53k  31.37k  31.53k  /sec: 132.95k  ead/sec: 133.03k  33.72k  : 0.019034  Progress: 23.87%  Words/thread/sec: 133.91k  .92%  Words/thread/sec: 134.05k  24.26%  Words/thread/sec: 135.02k  Progress: 24.41%  Words/thread/sec: 135.45k  9  Progress: 24.69%  Words/thread/sec: 136.24k  3k  ords/thread/sec: 137.09k  s: 25.18%  Words/thread/sec: 137.58k  ss: 25.21%  Words/thread/sec: 137.67k  18522  Progress: 25.91%  Words/thread/sec: 139.42k   0.018466  Progress: 26.14%  Words/thread/sec: 139.98k  ead/sec: 140.13k   26.50%  Words/thread/sec: 140.95k  41.09k  1.52k  ds/thread/sec: 142.63k  99  Progress: 27.21%  Words/thread/sec: 142.63k  2k  018034  Progress: 27.87%  Words/thread/sec: 144.27k  ords/thread/sec: 144.93k  pha: 0.017956  Progress: 28.18%  Words/thread/sec: 145.09k  Progress: 28.27%  Words/thread/sec: 145.32k  .017817  Progress: 28.74%  Words/thread/sec: 146.47k  /sec: 147.28k   Progress: 29.49%  Words/thread/sec: 148.27k  lpha: 0.017624  Progress: 29.51%  Words/thread/sec: 148.31k  61%  Words/thread/sec: 148.55k  s/thread/sec: 148.65k  ha: 0.017578  Progress: 29.69%  Words/thread/sec: 148.79k  rogress: 29.75%  Words/thread/sec: 148.94k  17457  Progress: 30.18%  Words/thread/sec: 149.95k   0.017433  Progress: 30.27%  Words/thread/sec: 150.15k  0.017411  Progress: 30.36%  Words/thread/sec: 150.35k  Words/thread/sec: 150.92k  ec: 151.02k  %  Words/thread/sec: 151.30k  Progress: 30.91%  Words/thread/sec: 151.56k  ress: 31.10%  Words/thread/sec: 152.05k  ress: 31.55%  Words/thread/sec: 152.94k  ords/thread/sec: 153.05k  read/sec: 153.31k  .36k  lpha: 0.017032  Progress: 31.87%  Words/thread/sec: 153.66k  %  Words/thread/sec: 154.48k  s: 32.36%  Words/thread/sec: 154.73k  hread/sec: 155.78k  pha: 0.016714  Progress: 33.15%  Words/thread/sec: 156.27k  d/sec: 156.47k   156.88k  /thread/sec: 156.99k  lpha: 0.016569  Progress: 33.73%  Words/thread/sec: 157.38k  thread/sec: 158.20k  .016429  Progress: 34.29%  Words/thread/sec: 158.63k   Progress: 34.61%  Words/thread/sec: 159.18k  thread/sec: 159.76k   159.98k    Progress: 35.44%  Words/thread/sec: 160.09k  35.57%  Words/thread/sec: 157.86k  ead/sec: 157.91k  3%  Words/thread/sec: 158.28k  ss: 36.02%  Words/thread/sec: 158.49k  ec: 158.50k  s/thread/sec: 158.61k  .015923  Progress: 36.31%  Words/thread/sec: 159.04k   0.015906  Progress: 36.38%  Words/thread/sec: 159.12k  %  Words/thread/sec: 159.25k  /thread/sec: 159.30k     36.69%  Words/thread/sec: 158.45k  : 36.71%  Words/thread/sec: 158.48k  ec: 158.60k   0.015780  Progress: 36.88%  Words/thread/sec: 158.86k  015774  Progress: 36.91%  Words/thread/sec: 158.90k   Progress: 36.99%  Words/thread/sec: 159.02k   159.10k   37.24%  Words/thread/sec: 159.42k  "
     ]
    },
    {
     "name": "stdout",
     "output_type": "stream",
     "text": [
      "Alpha: 0.006223  Progress: 75.11%  Words/thread/sec: 142.52k  0%  Words/thread/sec: 159.70k  a: 0.015610  Progress: 37.57%  Words/thread/sec: 149.76k  : 37.64%  Words/thread/sec: 147.52k  lpha: 0.015577  Progress: 37.70%  Words/thread/sec: 147.35k  3%  Words/thread/sec: 147.54k  rds/thread/sec: 147.63k  ha: 0.015456  Progress: 38.18%  Words/thread/sec: 145.10k  45.19k  41.96k  ss: 38.83%  Words/thread/sec: 142.02k  read/sec: 141.39k  ress: 39.09%  Words/thread/sec: 141.63k  40.67k  s: 39.26%  Words/thread/sec: 140.50k  5167  Progress: 39.34%  Words/thread/sec: 139.15k  38.65k  ha: 0.015121  Progress: 39.52%  Words/thread/sec: 138.78k  8%  Words/thread/sec: 139.12k  25  Progress: 39.90%  Words/thread/sec: 139.28k  .93%  Words/thread/sec: 139.32k  pha: 0.014997  Progress: 40.02%  Words/thread/sec: 139.49k  /thread/sec: 139.60k  40.22%  Words/thread/sec: 139.88k  32%  Words/thread/sec: 140.04k  9k   0.014860  Progress: 40.56%  Words/thread/sec: 140.37k  ords/thread/sec: 141.66k  46  Progress: 41.42%  Words/thread/sec: 141.70k  pha: 0.014548  Progress: 41.81%  Words/thread/sec: 142.34k  42.49k  14482  Progress: 42.08%  Words/thread/sec: 142.62k    Progress: 42.24%  Words/thread/sec: 142.91k  4%  Words/thread/sec: 143.09k  2.41%  Words/thread/sec: 143.22k   42.78%  Words/thread/sec: 142.35k  : 141.96k  s: 43.05%  Words/thread/sec: 142.09k  0.014119  Progress: 43.53%  Words/thread/sec: 142.97k  hread/sec: 143.54k  s: 44.01%  Words/thread/sec: 143.79k  Progress: 44.61%  Words/thread/sec: 144.76k  ogress: 44.83%  Words/thread/sec: 145.05k  rogress: 45.15%  Words/thread/sec: 145.49k  s/thread/sec: 145.69k  5  Progress: 45.46%  Words/thread/sec: 145.88k  Words/thread/sec: 146.12k  13591  Progress: 45.64%  Words/thread/sec: 146.17k  78  Progress: 45.69%  Words/thread/sec: 146.26k  013502  Progress: 46.00%  Words/thread/sec: 146.77k   147.10k  3%  Words/thread/sec: 147.49k  ess: 46.74%  Words/thread/sec: 147.76k  3289  Progress: 46.85%  Words/thread/sec: 147.91k  ds/thread/sec: 147.96k  lpha: 0.013265  Progress: 46.95%  Words/thread/sec: 148.05k  ogress: 47.17%  Words/thread/sec: 148.37k   Progress: 47.37%  Words/thread/sec: 148.65k  lpha: 0.013147  Progress: 47.42%  Words/thread/sec: 148.73k  Progress: 47.60%  Words/thread/sec: 149.03k  lpha: 0.013095  Progress: 47.62%  Words/thread/sec: 149.08k  ords/thread/sec: 149.46k  sec: 149.67k  0.012981  Progress: 48.08%  Words/thread/sec: 149.73k  .85k  thread/sec: 150.00k  lpha: 0.012897  Progress: 48.42%  Words/thread/sec: 150.14k  8.70%  Words/thread/sec: 150.46k  8k    Words/thread/sec: 150.81k  lpha: 0.012619  Progress: 49.53%  Words/thread/sec: 151.67k  ress: 49.60%  Words/thread/sec: 151.76k  ds/thread/sec: 151.82k  .86%  Words/thread/sec: 152.11k  a: 0.012461  Progress: 50.16%  Words/thread/sec: 152.45k  k  lpha: 0.012357  Progress: 50.58%  Words/thread/sec: 152.98k  0k   Progress: 50.97%  Words/thread/sec: 153.56k  ss: 51.10%  Words/thread/sec: 153.76k  lpha: 0.012205  Progress: 51.19%  Words/thread/sec: 153.89k  ds/thread/sec: 154.03k   0.012178  Progress: 51.29%  Words/thread/sec: 154.05k  ds/thread/sec: 154.21k  lpha: 0.012107  Progress: 51.58%  Words/thread/sec: 154.40k  gress: 51.62%  Words/thread/sec: 154.50k  pha: 0.012082  Progress: 51.68%  Words/thread/sec: 154.55k  3k  : 0.012024  Progress: 51.91%  Words/thread/sec: 154.81k  Words/thread/sec: 154.87k  4.89k  ress: 53.03%  Words/thread/sec: 156.24k    1  Progress: 53.36%  Words/thread/sec: 156.66k   0.011604  Progress: 53.59%  Words/thread/sec: 156.92k  ess: 53.72%  Words/thread/sec: 157.07k  Words/thread/sec: 157.17k  46k  73  Progress: 54.11%  Words/thread/sec: 157.53k  thread/sec: 157.68k  /thread/sec: 158.29k  94%  Words/thread/sec: 158.56k  ess: 55.06%  Words/thread/sec: 158.62k  lpha: 0.011142  Progress: 55.44%  Words/thread/sec: 158.78k  ad/sec: 158.85k  /sec: 158.82k  8.79k  11086  Progress: 55.66%  Words/thread/sec: 158.81k    Words/thread/sec: 158.83k  0.011045  Progress: 55.82%  Words/thread/sec: 158.92k    Progress: 55.91%  Words/thread/sec: 158.93k   56.05%  Words/thread/sec: 158.94k  k  .33k  ss: 56.50%  Words/thread/sec: 159.45k  lpha: 0.010858  Progress: 56.57%  Words/thread/sec: 159.52k  9.59k  : 0.010831  Progress: 56.68%  Words/thread/sec: 159.59k  : 0.010789  Progress: 56.85%  Words/thread/sec: 159.76k  .87k  32%  Words/thread/sec: 159.93k   k  rogress: 57.85%  Words/thread/sec: 159.93k  160.00k  19  Progress: 58.33%  Words/thread/sec: 160.29k  %  Words/thread/sec: 160.26k  pha: 0.010407  Progress: 58.38%  Words/thread/sec: 160.30k  : 0.010369  Progress: 58.53%  Words/thread/sec: 160.38k  .70%  Words/thread/sec: 160.40k  : 0.010316  Progress: 58.74%  Words/thread/sec: 160.42k  95%  Words/thread/sec: 160.57k  5  Progress: 58.99%  Words/thread/sec: 160.61k    Progress: 59.26%  Words/thread/sec: 160.76k  : 160.81k  k  ds/thread/sec: 160.88k    59.97%  Words/thread/sec: 160.91k  : 0.010007  Progress: 59.98%  Words/thread/sec: 160.90k  2%  Words/thread/sec: 160.98k  85  Progress: 60.06%  Words/thread/sec: 160.98k    Progress: 60.42%  Words/thread/sec: 161.00k   c: 160.75k  160.49k  60k  %  Words/thread/sec: 156.61k   rds/thread/sec: 156.66k   Words/thread/sec: 156.69k  gress: 61.53%  Words/thread/sec: 156.71k  Progress: 61.59%  Words/thread/sec: 156.73k    Progress: 61.68%  Words/thread/sec: 154.91k  009569  Progress: 61.73%  Words/thread/sec: 153.31k  thread/sec: 150.97k  rogress: 61.97%  Words/thread/sec: 148.95k  : 62.17%  Words/thread/sec: 142.94k  ead/sec: 142.64k   Progress: 62.38%  Words/thread/sec: 141.95k  ds/thread/sec: 142.00k  09383  Progress: 62.47%  Words/thread/sec: 142.04k  k  : 62.72%  Words/thread/sec: 142.22k  2.65k  k  09107  Progress: 63.57%  Words/thread/sec: 142.69k  thread/sec: 142.93k    ords/thread/sec: 143.01k  hread/sec: 143.07k  : 143.05k  008912  Progress: 64.36%  Words/thread/sec: 143.09k  lpha: 0.008884  Progress: 64.47%  Words/thread/sec: 143.15k  Words/thread/sec: 143.16k  08855  Progress: 64.59%  Words/thread/sec: 143.19k    Progress: 65.02%  Words/thread/sec: 143.50k  3%  Words/thread/sec: 143.68k  d/sec: 143.68k  1  Progress: 65.44%  Words/thread/sec: 143.78k  ress: 65.64%  Words/thread/sec: 142.84k   65.71%  Words/thread/sec: 141.79k  ess: 65.94%  Words/thread/sec: 140.90k  139.82k  0.008313  Progress: 66.75%  Words/thread/sec: 140.15k  008305  Progress: 66.79%  Words/thread/sec: 140.20k  pha: 0.008276  Progress: 66.90%  Words/thread/sec: 140.28k  ad/sec: 140.36k  gress: 67.17%  Words/thread/sec: 140.46k  : 140.49k  lpha: 0.008140  Progress: 67.45%  Words/thread/sec: 140.63k  rds/thread/sec: 140.77k    Words/thread/sec: 140.96k  7963  Progress: 68.15%  Words/thread/sec: 141.01k  : 141.11k  hread/sec: 141.13k  007847  Progress: 68.62%  Words/thread/sec: 141.18k  007811  Progress: 68.76%  Words/thread/sec: 141.31k  /thread/sec: 141.34k  007751  Progress: 69.00%  Words/thread/sec: 141.45k  9.18%  Words/thread/sec: 141.54k   Words/thread/sec: 141.83k  1.98k  69.78%  Words/thread/sec: 141.97k  .03k  pha: 0.007516  Progress: 69.94%  Words/thread/sec: 142.10k  .007514  Progress: 69.95%  Words/thread/sec: 142.10k  /thread/sec: 142.14k  s: 70.10%  Words/thread/sec: 142.16k  1.02k   1.02k  68%  Words/thread/sec: 141.05k  ress: 70.71%  Words/thread/sec: 141.06k  rds/thread/sec: 141.09k   0.007294  Progress: 70.83%  Words/thread/sec: 141.10k  9%  Words/thread/sec: 141.41k  lpha: 0.007132  Progress: 71.48%  Words/thread/sec: 141.54k    : 71.98%  Words/thread/sec: 141.89k  a: 0.006963  Progress: 72.15%  Words/thread/sec: 142.04k   0.006958  Progress: 72.17%  Words/thread/sec: 142.06k  /thread/sec: 142.05k  5k  42.24k    Words/thread/sec: 142.37k  6831  Progress: 72.68%  Words/thread/sec: 142.41k  006770  Progress: 72.92%  Words/thread/sec: 142.53k  hread/sec: 142.62k   73.32%  Words/thread/sec: 142.74k  ogress: 73.53%  Words/thread/sec: 142.81k  42.84k  : 73.93%  Words/thread/sec: 143.05k  lpha: 0.006516  Progress: 73.94%  Words/thread/sec: 143.06k  : 142.09k  006407  Progress: 74.38%  Words/thread/sec: 142.10k  ad/sec: 142.28k  142.32k  ords/thread/sec: 142.31k  pha: 0.006304  Progress: 74.79%  Words/thread/sec: 142.35k  a: 0.006268  Progress: 74.93%  Words/thread/sec: 142.44k  ha: 0.006227  Progress: 75.10%  Words/thread/sec: 142.51k  "
     ]
    },
    {
     "name": "stdout",
     "output_type": "stream",
     "text": [
      "Alpha: 0.000020  Progress: 99.92%  Words/thread/sec: 141.56k  : 142.54k  : 0.006204  Progress: 75.19%  Words/thread/sec: 142.55k  42.66k  d/sec: 142.72k  ss: 75.86%  Words/thread/sec: 142.49k  a: 0.005996  Progress: 76.02%  Words/thread/sec: 141.83k  6.17%  Words/thread/sec: 141.93k  5927  Progress: 76.29%  Words/thread/sec: 141.89k  76.48%  Words/thread/sec: 142.01k  6.49%  Words/thread/sec: 142.01k  0.005875  Progress: 76.51%  Words/thread/sec: 142.01k  read/sec: 142.15k  sec: 142.26k  s/thread/sec: 142.43k  005631  Progress: 77.48%  Words/thread/sec: 142.63k  3k  Words/thread/sec: 142.69k  61%  Words/thread/sec: 142.72k  Words/thread/sec: 142.96k  8  Progress: 78.01%  Words/thread/sec: 142.98k  : 78.08%  Words/thread/sec: 143.03k  43.05k  s: 78.23%  Words/thread/sec: 143.12k  43.22k  ords/thread/sec: 143.40k  s: 78.70%  Words/thread/sec: 143.45k  hread/sec: 143.72k  0%  Words/thread/sec: 143.85k  96k  s/thread/sec: 144.07k  4.20k  : 0.005039  Progress: 79.85%  Words/thread/sec: 144.23k  thread/sec: 144.23k  1k  04980  Progress: 80.09%  Words/thread/sec: 144.33k  144.30k  23k     80.41%  Words/thread/sec: 143.47k  a: 0.004838  Progress: 80.65%  Words/thread/sec: 143.51k  0.67%  Words/thread/sec: 143.53k  lpha: 0.004826  Progress: 80.70%  Words/thread/sec: 143.56k  .004795  Progress: 80.82%  Words/thread/sec: 143.66k  pha: 0.004769  Progress: 80.93%  Words/thread/sec: 143.72k  93  Progress: 81.23%  Words/thread/sec: 143.89k  3.93k  4606  Progress: 81.58%  Words/thread/sec: 144.14k  lpha: 0.004583  Progress: 81.67%  Words/thread/sec: 144.20k  Words/thread/sec: 144.20k    Words/thread/sec: 137.03k  ess: 82.38%  Words/thread/sec: 134.70k  k  pha: 0.004399  Progress: 82.41%  Words/thread/sec: 134.69k  .74k  ead/sec: 134.84k  ess: 82.83%  Words/thread/sec: 134.91k  thread/sec: 134.98k  4k  : 83.35%  Words/thread/sec: 135.19k  ess: 83.49%  Words/thread/sec: 135.23k  .004119  Progress: 83.53%  Words/thread/sec: 135.25k  .29k  ha: 0.004098  Progress: 83.61%  Words/thread/sec: 135.31k  %  Words/thread/sec: 135.31k   Words/thread/sec: 135.33k   Words/thread/sec: 135.39k  ss: 83.86%  Words/thread/sec: 135.39k   0.004018  Progress: 83.93%  Words/thread/sec: 135.45k  .004015  Progress: 83.95%  Words/thread/sec: 135.45k  lpha: 0.003983  Progress: 84.07%  Words/thread/sec: 135.54k  lpha: 0.003942  Progress: 84.24%  Words/thread/sec: 135.64k  .003928  Progress: 84.29%  Words/thread/sec: 135.68k  135.93k  ords/thread/sec: 135.98k  a: 0.003756  Progress: 84.98%  Words/thread/sec: 136.05k  ords/thread/sec: 135.25k  ogress: 85.34%  Words/thread/sec: 135.28k  rogress: 85.40%  Words/thread/sec: 135.31k  .29k   0.003594  Progress: 85.63%  Words/thread/sec: 135.40k  3559  Progress: 85.77%  Words/thread/sec: 135.51k  hread/sec: 135.61k  5.98%  Words/thread/sec: 135.64k  s: 86.04%  Words/thread/sec: 135.67k   135.86k  6.08k  ha: 0.003281  Progress: 86.88%  Words/thread/sec: 136.18k  25k  7.12%  Words/thread/sec: 136.30k  .003197  Progress: 87.22%  Words/thread/sec: 136.36k  136.37k  2  Progress: 87.36%  Words/thread/sec: 136.46k  077  Progress: 87.69%  Words/thread/sec: 136.67k  87.92%  Words/thread/sec: 136.80k  rogress: 87.94%  Words/thread/sec: 136.82k  %  Words/thread/sec: 135.90k    Progress: 88.09%  Words/thread/sec: 135.91k  ogress: 88.20%  Words/thread/sec: 135.96k  d/sec: 135.99k  0.002932  Progress: 88.28%  Words/thread/sec: 136.00k  /sec: 135.63k  gress: 88.49%  Words/thread/sec: 135.18k  a: 0.002867  Progress: 88.54%  Words/thread/sec: 135.22k    Words/thread/sec: 135.33k  ead/sec: 135.35k  lpha: 0.002806  Progress: 88.78%  Words/thread/sec: 135.37k  : 135.41k   89.35%  Words/thread/sec: 135.68k  ords/thread/sec: 135.76k  k  : 135.90k  002547  Progress: 89.82%  Words/thread/sec: 135.96k  002535  Progress: 89.86%  Words/thread/sec: 135.99k  /sec: 136.03k  ogress: 89.94%  Words/thread/sec: 136.05k    Progress: 90.09%  Words/thread/sec: 136.14k  6.18k  36.22k  lpha: 0.002432  Progress: 90.28%  Words/thread/sec: 136.26k  c: 136.33k     136.44k  ress: 90.76%  Words/thread/sec: 136.56k  ss: 90.86%  Words/thread/sec: 136.62k  6.84k  0.002131  Progress: 91.48%  Words/thread/sec: 137.04k  pha: 0.002118  Progress: 91.53%  Words/thread/sec: 137.08k  gress: 91.61%  Words/thread/sec: 137.13k  thread/sec: 137.67k  19k  %  Words/thread/sec: 138.26k  1%  Words/thread/sec: 137.86k  : 137.71k  4%  Words/thread/sec: 137.76k  ess: 94.22%  Words/thread/sec: 138.00k  d/sec: 138.10k  c: 138.11k  .001395  Progress: 94.42%  Words/thread/sec: 138.15k  0%  Words/thread/sec: 138.42k  275  Progress: 94.90%  Words/thread/sec: 138.47k  gress: 95.28%  Words/thread/sec: 138.71k  57  Progress: 95.38%  Words/thread/sec: 138.78k  rds/thread/sec: 139.01k  ec: 139.04k  39.13k  14  Progress: 95.95%  Words/thread/sec: 139.17k  ead/sec: 139.22k  96.06%  Words/thread/sec: 139.25k   Words/thread/sec: 139.41k  6k  55k  6.87%  Words/thread/sec: 139.81k   139.92k  ords/thread/sec: 139.93k  ogress: 97.75%  Words/thread/sec: 140.37k  5k  ss: 98.40%  Words/thread/sec: 140.76k  ad/sec: 140.92k  %  Words/thread/sec: 141.16k   ogress: 99.49%  Words/thread/sec: 141.48k  s/thread/sec: 141.54k  "
     ]
    }
   ],
   "source": [
    "# jieba分詞轉word2vec向量\n",
    "import word2vec\n",
    "\n",
    "word2vec.word2vec('corpusSegDone.txt', 'corpusWord2Vec.bin', size=300,verbose=True)"
   ]
  },
  {
   "cell_type": "code",
   "execution_count": 4,
   "id": "ba424103",
   "metadata": {},
   "outputs": [
    {
     "ename": "UnicodeDecodeError",
     "evalue": "'utf-8' codec can't decode byte 0xb7 in position 0: invalid start byte",
     "output_type": "error",
     "traceback": [
      "\u001b[1;31m---------------------------------------------------------------------------\u001b[0m",
      "\u001b[1;31mUnicodeDecodeError\u001b[0m                        Traceback (most recent call last)",
      "\u001b[1;32m<ipython-input-4-75d89ed9b501>\u001b[0m in \u001b[0;36m<module>\u001b[1;34m\u001b[0m\n\u001b[0;32m      1\u001b[0m \u001b[1;31m#驗證\u001b[0m\u001b[1;33m\u001b[0m\u001b[1;33m\u001b[0m\u001b[1;33m\u001b[0m\u001b[0m\n\u001b[1;32m----> 2\u001b[1;33m \u001b[0mmodel\u001b[0m \u001b[1;33m=\u001b[0m \u001b[0mword2vec\u001b[0m\u001b[1;33m.\u001b[0m\u001b[0mload\u001b[0m\u001b[1;33m(\u001b[0m\u001b[1;34m'corpusWord2Vec.bin'\u001b[0m\u001b[1;33m)\u001b[0m\u001b[1;33m\u001b[0m\u001b[1;33m\u001b[0m\u001b[0m\n\u001b[0m\u001b[0;32m      3\u001b[0m \u001b[0mindexes\u001b[0m \u001b[1;33m=\u001b[0m \u001b[0mmodel\u001b[0m\u001b[1;33m.\u001b[0m\u001b[0mcosine\u001b[0m\u001b[1;33m(\u001b[0m\u001b[1;34mu'畢業'\u001b[0m\u001b[1;33m)\u001b[0m \u001b[1;31m# 此字詞有出現在corpusWord2Vec.bin當中\u001b[0m\u001b[1;33m\u001b[0m\u001b[1;33m\u001b[0m\u001b[0m\n\u001b[0;32m      4\u001b[0m \u001b[1;32mfor\u001b[0m \u001b[0mindex\u001b[0m \u001b[1;32min\u001b[0m \u001b[0mindexes\u001b[0m\u001b[1;33m[\u001b[0m\u001b[1;36m0\u001b[0m\u001b[1;33m]\u001b[0m\u001b[1;33m:\u001b[0m\u001b[1;33m\u001b[0m\u001b[1;33m\u001b[0m\u001b[0m\n\u001b[0;32m      5\u001b[0m     \u001b[0mprint\u001b[0m\u001b[1;33m(\u001b[0m\u001b[0mmodel\u001b[0m\u001b[1;33m.\u001b[0m\u001b[0mvocab\u001b[0m\u001b[1;33m[\u001b[0m\u001b[0mindex\u001b[0m\u001b[1;33m]\u001b[0m\u001b[1;33m)\u001b[0m\u001b[1;33m\u001b[0m\u001b[1;33m\u001b[0m\u001b[0m\n",
      "\u001b[1;32m~\\anaconda3\\lib\\site-packages\\word2vec\\io.py\u001b[0m in \u001b[0;36mload\u001b[1;34m(fname, kind, *args, **kwargs)\u001b[0m\n\u001b[0;32m     14\u001b[0m             \u001b[1;32mraise\u001b[0m \u001b[0mException\u001b[0m\u001b[1;33m(\u001b[0m\u001b[1;34m\"Could not identify kind\"\u001b[0m\u001b[1;33m)\u001b[0m\u001b[1;33m\u001b[0m\u001b[1;33m\u001b[0m\u001b[0m\n\u001b[0;32m     15\u001b[0m     \u001b[1;32mif\u001b[0m \u001b[0mkind\u001b[0m \u001b[1;33m==\u001b[0m \u001b[1;34m\"bin\"\u001b[0m\u001b[1;33m:\u001b[0m\u001b[1;33m\u001b[0m\u001b[1;33m\u001b[0m\u001b[0m\n\u001b[1;32m---> 16\u001b[1;33m         \u001b[1;32mreturn\u001b[0m \u001b[0mword2vec\u001b[0m\u001b[1;33m.\u001b[0m\u001b[0mWordVectors\u001b[0m\u001b[1;33m.\u001b[0m\u001b[0mfrom_binary\u001b[0m\u001b[1;33m(\u001b[0m\u001b[0mfname\u001b[0m\u001b[1;33m,\u001b[0m \u001b[1;33m*\u001b[0m\u001b[0margs\u001b[0m\u001b[1;33m,\u001b[0m \u001b[1;33m**\u001b[0m\u001b[0mkwargs\u001b[0m\u001b[1;33m)\u001b[0m\u001b[1;33m\u001b[0m\u001b[1;33m\u001b[0m\u001b[0m\n\u001b[0m\u001b[0;32m     17\u001b[0m     \u001b[1;32melif\u001b[0m \u001b[0mkind\u001b[0m \u001b[1;33m==\u001b[0m \u001b[1;34m\"txt\"\u001b[0m\u001b[1;33m:\u001b[0m\u001b[1;33m\u001b[0m\u001b[1;33m\u001b[0m\u001b[0m\n\u001b[0;32m     18\u001b[0m         \u001b[1;32mreturn\u001b[0m \u001b[0mword2vec\u001b[0m\u001b[1;33m.\u001b[0m\u001b[0mWordVectors\u001b[0m\u001b[1;33m.\u001b[0m\u001b[0mfrom_text\u001b[0m\u001b[1;33m(\u001b[0m\u001b[0mfname\u001b[0m\u001b[1;33m,\u001b[0m \u001b[1;33m*\u001b[0m\u001b[0margs\u001b[0m\u001b[1;33m,\u001b[0m \u001b[1;33m**\u001b[0m\u001b[0mkwargs\u001b[0m\u001b[1;33m)\u001b[0m\u001b[1;33m\u001b[0m\u001b[1;33m\u001b[0m\u001b[0m\n",
      "\u001b[1;32m~\\anaconda3\\lib\\site-packages\\word2vec\\wordvectors.py\u001b[0m in \u001b[0;36mfrom_binary\u001b[1;34m(cls, fname, vocab_unicode_size, desired_vocab, encoding, new_lines)\u001b[0m\n\u001b[0;32m    219\u001b[0m                 \u001b[0minclude\u001b[0m \u001b[1;33m=\u001b[0m \u001b[0mdesired_vocab\u001b[0m \u001b[1;32mis\u001b[0m \u001b[1;32mNone\u001b[0m \u001b[1;32mor\u001b[0m \u001b[0mword\u001b[0m \u001b[1;32min\u001b[0m \u001b[0mdesired_vocab\u001b[0m\u001b[1;33m\u001b[0m\u001b[1;33m\u001b[0m\u001b[0m\n\u001b[0;32m    220\u001b[0m                 \u001b[1;32mif\u001b[0m \u001b[0minclude\u001b[0m\u001b[1;33m:\u001b[0m\u001b[1;33m\u001b[0m\u001b[1;33m\u001b[0m\u001b[0m\n\u001b[1;32m--> 221\u001b[1;33m                     \u001b[0mvocab\u001b[0m\u001b[1;33m[\u001b[0m\u001b[0mi\u001b[0m\u001b[1;33m]\u001b[0m \u001b[1;33m=\u001b[0m \u001b[0mword\u001b[0m\u001b[1;33m.\u001b[0m\u001b[0mdecode\u001b[0m\u001b[1;33m(\u001b[0m\u001b[0mencoding\u001b[0m\u001b[1;33m)\u001b[0m\u001b[1;33m\u001b[0m\u001b[1;33m\u001b[0m\u001b[0m\n\u001b[0m\u001b[0;32m    222\u001b[0m \u001b[1;33m\u001b[0m\u001b[0m\n\u001b[0;32m    223\u001b[0m                 \u001b[1;31m# read vector\u001b[0m\u001b[1;33m\u001b[0m\u001b[1;33m\u001b[0m\u001b[1;33m\u001b[0m\u001b[0m\n",
      "\u001b[1;31mUnicodeDecodeError\u001b[0m: 'utf-8' codec can't decode byte 0xb7 in position 0: invalid start byte"
     ]
    }
   ],
   "source": [
    "#驗證\n",
    "model = word2vec.load('corpusWord2Vec.bin')\n",
    "indexes = model.cosine(u'畢業') # 此字詞有出現在corpusWord2Vec.bin當中\n",
    "for index in indexes[0]:\n",
    "    print(model.vocab[index])\n",
    "for index in indexes[1]:\n",
    "    print(model.vocab[index])"
   ]
  },
  {
   "cell_type": "code",
   "execution_count": null,
   "id": "a506fa87",
   "metadata": {},
   "outputs": [],
   "source": []
  },
  {
   "cell_type": "code",
   "execution_count": null,
   "id": "122c432d",
   "metadata": {},
   "outputs": [],
   "source": []
  }
 ],
 "metadata": {
  "kernelspec": {
   "display_name": "Python 3",
   "language": "python",
   "name": "python3"
  },
  "language_info": {
   "codemirror_mode": {
    "name": "ipython",
    "version": 3
   },
   "file_extension": ".py",
   "mimetype": "text/x-python",
   "name": "python",
   "nbconvert_exporter": "python",
   "pygments_lexer": "ipython3",
   "version": "3.8.8"
  }
 },
 "nbformat": 4,
 "nbformat_minor": 5
}
