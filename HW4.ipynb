{
 "cells": [
  {
   "cell_type": "code",
   "execution_count": 1,
   "id": "555f7b35",
   "metadata": {},
   "outputs": [],
   "source": [
    "#讀檔\n",
    "import json\n",
    "\n",
    "text = []\n",
    "for i in range(65,78):\n",
    "    range_2 = 10\n",
    "    if i == 77:\n",
    "        range_2 = 8\n",
    "    for j in range(range_2):\n",
    "        range_3 = 10\n",
    "        if i == 77 and j == 7:\n",
    "            range_3 = 4\n",
    "        for l in range(range_3):\n",
    "            path = 'wiki_zh/A' + chr(i) + '/wiki_' + str(j) + str(l)\n",
    "\n",
    "            input_file = open(path, encoding = 'utf8')\n",
    "            for line in input_file.readlines():\n",
    "                text.append(json.loads(line))\n",
    "            input_file.close()\n",
    "            "
   ]
  },
  {
   "cell_type": "code",
   "execution_count": 2,
   "id": "236f98c4",
   "metadata": {},
   "outputs": [],
   "source": [
    "#簡轉繁\n",
    "from opencc import OpenCC\n",
    "\n",
    "cc = OpenCC('s2t')\n",
    "\n",
    "for item in text:\n",
    "    item['title'] = cc.convert(item['title'])\n",
    "    item['text'] = cc.convert(item['text'])"
   ]
  },
  {
   "cell_type": "code",
   "execution_count": 3,
   "id": "9b1231e8",
   "metadata": {},
   "outputs": [
    {
     "name": "stderr",
     "output_type": "stream",
     "text": [
      "Building prefix dict from the default dictionary ...\n",
      "Loading model from cache C:\\Users\\UserTest\\AppData\\Local\\Temp\\jieba.cache\n",
      "Loading model cost 1.229 seconds.\n",
      "Prefix dict has been built successfully.\n"
     ]
    }
   ],
   "source": [
    "#斷詞\n",
    "import jieba\n",
    "\n",
    "fileTrainSeg=[]\n",
    "for i in text:\n",
    "    fileTrainSeg.append([' '.join(list(jieba.cut(i['text'],cut_all=False)))])"
   ]
  },
  {
   "cell_type": "code",
   "execution_count": 4,
   "id": "b7adfe42",
   "metadata": {},
   "outputs": [],
   "source": [
    "#斷詞結果寫檔\n",
    "fileSegWordDonePath ='corpusSegDone.txt'\n",
    "with open(fileSegWordDonePath,'wb') as fW:\n",
    "    for i in range(len(fileTrainSeg)):\n",
    "        fW.write(fileTrainSeg[i][0].encode('utf-8'))\n",
    "        fW.write('\\n'.encode('utf-8'))"
   ]
  },
  {
   "cell_type": "code",
   "execution_count": 5,
   "id": "e39580e2",
   "metadata": {},
   "outputs": [
    {
     "name": "stdout",
     "output_type": "stream",
     "text": [
      "Running command: word2vec -train corpusSegDone.txt -output corpusWord2Vec.txt -size 300 -window 5 -sample 1e-3 -hs 0 -negative 5 -threads 12 -iter 5 -min-count 5 -alpha 0.025 -debug 2 -binary 0 -cbow 1\n",
      "Starting training using file corpusSegDone.txt\n",
      "Vocab size: 9233138800K0KK\n",
      "Words in train file: 244600906\n"
     ]
    },
    {
     "name": "stdout",
     "output_type": "stream",
     "text": [
      "Alpha: 0.011189  Progress: 55.25%  Words/thread/sec: 146.66k  /sec: 53.71k  3.57k  0.024924  Progress: 0.31%  Words/thread/sec: 70.38k  Progress: 0.48%  Words/thread/sec: 85.28k  .55%  Words/thread/sec: 93.61k  k        Words/thread/sec: 63.27k  90%  Words/thread/sec: 68.13k  ec: 70.64k  ress: 2.18%  Words/thread/sec: 74.68k  8.47k  ords/thread/sec: 82.85k  %  Words/thread/sec: 84.12k  .08k  ords/thread/sec: 98.07k  0.024102  Progress: 3.60%  Words/thread/sec: 102.63k  /thread/sec: 102.79k  thread/sec: 102.45k  : 100.16k   3.77%  Words/thread/sec: 99.06k  6  Progress: 3.78%  Words/thread/sec: 98.52k  0.023887  Progress: 4.46%  Words/thread/sec: 104.20k  Progress: 4.61%  Words/thread/sec: 105.58k    Progress: 4.70%  Words/thread/sec: 106.86k    : 5.83%  Words/thread/sec: 120.57k  read/sec: 120.78k  c: 120.96k  ead/sec: 124.54k  023437  Progress: 6.26%  Words/thread/sec: 125.04k  rogress: 6.54%  Words/thread/sec: 128.24k   Words/thread/sec: 130.83k  23268  Progress: 6.93%  Words/thread/sec: 132.63k  3  Progress: 7.51%  Words/thread/sec: 125.54k   0.022987  Progress: 8.06%  Words/thread/sec: 126.62k  Words/thread/sec: 127.07k  d/sec: 128.56k  : 8.34%  Words/thread/sec: 129.07k  pha: 0.022895  Progress: 8.43%  Words/thread/sec: 129.79k    ad/sec: 130.98k  /sec: 133.21k  rds/thread/sec: 138.07k  140.82k  s: 10.41%  Words/thread/sec: 142.31k  10.65%  Words/thread/sec: 143.38k  ds/thread/sec: 146.75k  .30k  6k  ec: 150.06k  ds/thread/sec: 153.70k  21871  Progress: 12.52%  Words/thread/sec: 153.83k  0.021853  Progress: 12.59%  Words/thread/sec: 154.07k  lpha: 0.021791  Progress: 12.84%  Words/thread/sec: 154.10k  8%  Words/thread/sec: 154.35k  3.03%  Words/thread/sec: 154.81k  ad/sec: 154.70k  3k  156.08k  ress: 14.06%  Words/thread/sec: 150.32k  1  Progress: 14.12%  Words/thread/sec: 150.54k   s/thread/sec: 150.45k  : 0.021202  Progress: 15.20%  Words/thread/sec: 123.97k  : 15.54%  Words/thread/sec: 125.25k  21084  Progress: 15.67%  Words/thread/sec: 125.58k  ess: 16.01%  Words/thread/sec: 126.17k  .22%  Words/thread/sec: 126.85k  ad/sec: 127.60k  0.020794  Progress: 16.83%  Words/thread/sec: 129.44k  hread/sec: 129.52k  .37k  lpha: 0.020736  Progress: 17.06%  Words/thread/sec: 130.46k  gress: 17.63%  Words/thread/sec: 132.86k  20433  Progress: 18.27%  Words/thread/sec: 135.28k  ds/thread/sec: 135.37k  pha: 0.020412  Progress: 18.36%  Words/thread/sec: 135.46k  ords/thread/sec: 126.80k   121.87k   122.03k  122.40k  20125  Progress: 19.50%  Words/thread/sec: 122.57k  Words/thread/sec: 123.07k  lpha: 0.020063  Progress: 19.75%  Words/thread/sec: 123.32k  20021  Progress: 19.92%  Words/thread/sec: 123.74k  read/sec: 124.25k  rogress: 20.20%  Words/thread/sec: 124.46k  read/sec: 124.65k  d/sec: 125.01k  Progress: 20.68%  Words/thread/sec: 125.94k  0.89%  Words/thread/sec: 126.31k   21.49%  Words/thread/sec: 127.81k  ess: 21.54%  Words/thread/sec: 128.00k   0.019560  Progress: 21.76%  Words/thread/sec: 128.81k  %  Words/thread/sec: 129.01k  a: 0.019542  Progress: 21.84%  Words/thread/sec: 129.03k  lpha: 0.019536  Progress: 21.86%  Words/thread/sec: 129.13k  08  Progress: 21.97%  Words/thread/sec: 129.53k  52  Progress: 23.00%  Words/thread/sec: 132.49k  0.018986  Progress: 24.06%  Words/thread/sec: 134.77k  .49%  Words/thread/sec: 135.47k   Progress: 24.77%  Words/thread/sec: 133.00k  ad/sec: 133.13k   24.87%  Words/thread/sec: 132.09k  hread/sec: 130.54k  s/thread/sec: 131.74k  18589  Progress: 25.65%  Words/thread/sec: 131.77k    Progress: 25.76%  Words/thread/sec: 131.89k  rogress: 25.78%  Words/thread/sec: 131.96k  ds/thread/sec: 131.97k  ds/thread/sec: 132.14k  read/sec: 132.33k  lpha: 0.018480  Progress: 26.09%  Words/thread/sec: 132.82k  sec: 133.07k  018443  Progress: 26.23%  Words/thread/sec: 133.16k  ess: 26.47%  Words/thread/sec: 133.58k  s/thread/sec: 134.02k  9%  Words/thread/sec: 135.17k  ess: 27.61%  Words/thread/sec: 135.63k  018092  Progress: 27.64%  Words/thread/sec: 135.69k  /sec: 135.99k  a: 0.018037  Progress: 27.86%  Words/thread/sec: 136.05k  ess: 27.93%  Words/thread/sec: 136.12k  ds/thread/sec: 136.02k  pha: 0.017811  Progress: 28.76%  Words/thread/sec: 137.45k  ds/thread/sec: 138.59k  03k  /sec: 139.27k  .22%  Words/thread/sec: 140.07k  ds/thread/sec: 140.03k  : 140.08k  pha: 0.017401  Progress: 30.40%  Words/thread/sec: 140.30k  ec: 140.85k  17339  Progress: 30.65%  Words/thread/sec: 140.83k  c: 141.16k  pha: 0.017132  Progress: 31.48%  Words/thread/sec: 132.51k  2  Progress: 31.67%  Words/thread/sec: 131.26k   Progress: 31.94%  Words/thread/sec: 131.88k  thread/sec: 132.18k   Words/thread/sec: 132.29k  thread/sec: 133.00k  k   Words/thread/sec: 133.53k  rogress: 33.17%  Words/thread/sec: 133.91k  .41%  Words/thread/sec: 134.19k  a: 0.016601  Progress: 33.60%  Words/thread/sec: 134.39k  k  ords/thread/sec: 136.09k  47%  Words/thread/sec: 137.29k    Progress: 35.49%  Words/thread/sec: 137.34k  c: 137.56k  38.05k  .13%  Words/thread/sec: 138.21k  lpha: 0.015960  Progress: 36.16%  Words/thread/sec: 138.26k  ords/thread/sec: 138.26k  955  Progress: 36.19%  Words/thread/sec: 138.27k  : 36.19%  Words/thread/sec: 138.26k  Progress: 36.41%  Words/thread/sec: 138.26k  read/sec: 138.58k  ds/thread/sec: 138.72k  c: 138.70k  ha: 0.015682  Progress: 37.27%  Words/thread/sec: 139.80k  015584  Progress: 37.67%  Words/thread/sec: 140.58k  ogress: 38.10%  Words/thread/sec: 140.61k  s: 38.15%  Words/thread/sec: 140.31k  9k  015408  Progress: 38.37%  Words/thread/sec: 139.52k  read/sec: 139.54k  8.62%  Words/thread/sec: 139.57k  rds/thread/sec: 139.66k  sec: 139.73k  4%  Words/thread/sec: 139.38k  56  Progress: 39.78%  Words/thread/sec: 139.04k  ress: 40.02%  Words/thread/sec: 139.27k  ess: 40.10%  Words/thread/sec: 139.37k  %  Words/thread/sec: 139.75k  ad/sec: 140.58k  68k  s/thread/sec: 141.84k  Progress: 41.84%  Words/thread/sec: 142.17k  4465  Progress: 42.15%  Words/thread/sec: 142.64k  : 42.52%  Words/thread/sec: 143.29k  : 143.90k  read/sec: 143.94k  k  2.98%  Words/thread/sec: 144.05k  ha: 0.014197  Progress: 43.21%  Words/thread/sec: 144.09k   Progress: 43.60%  Words/thread/sec: 143.89k  d/sec: 143.88k  s: 43.63%  Words/thread/sec: 143.36k    Progress: 43.76%  Words/thread/sec: 142.56k  : 142.66k  2.72k  0%  Words/thread/sec: 142.80k  014002  Progress: 44.00%  Words/thread/sec: 142.94k   Words/thread/sec: 143.16k  ds/thread/sec: 143.52k  ress: 44.46%  Words/thread/sec: 143.72k  ha: 0.013836  Progress: 44.66%  Words/thread/sec: 144.04k  a: 0.013814  Progress: 44.75%  Words/thread/sec: 144.21k  a: 0.013736  Progress: 45.06%  Words/thread/sec: 143.06k  : 45.09%  Words/thread/sec: 143.08k   45.26%  Words/thread/sec: 141.91k  read/sec: 137.02k  c: 137.03k   46.15%  Words/thread/sec: 137.47k  .20%  Words/thread/sec: 137.54k  46.28%  Words/thread/sec: 137.61k  Progress: 46.58%  Words/thread/sec: 137.92k  13350  Progress: 46.60%  Words/thread/sec: 137.92k  Progress: 46.83%  Words/thread/sec: 138.20k  /thread/sec: 138.19k   0.013261  Progress: 46.96%  Words/thread/sec: 138.28k  47.06%  Words/thread/sec: 138.24k  ords/thread/sec: 138.32k  13166  Progress: 47.34%  Words/thread/sec: 138.63k  ds/thread/sec: 138.66k  9.17k  d/sec: 139.64k  /thread/sec: 139.72k  012833  Progress: 48.67%  Words/thread/sec: 140.33k  ss: 49.19%  Words/thread/sec: 140.79k   Words/thread/sec: 140.79k    141.31k  hread/sec: 141.29k  rds/thread/sec: 141.32k  5k  ss: 50.11%  Words/thread/sec: 141.58k  sec: 142.01k  rogress: 50.94%  Words/thread/sec: 142.57k  51.01%  Words/thread/sec: 142.66k  ead/sec: 142.77k  ec: 143.04k  24k      lpha: 0.011922  Progress: 52.32%  Words/thread/sec: 143.91k  ead/sec: 143.96k  ogress: 52.88%  Words/thread/sec: 144.46k  .99%  Words/thread/sec: 144.48k  : 53.52%  Words/thread/sec: 145.10k   Words/thread/sec: 145.38k  145.61k  s/thread/sec: 145.99k  ogress: 54.64%  Words/thread/sec: 146.04k  1%  Words/thread/sec: 146.57k  s: 55.24%  Words/thread/sec: 146.65k  \r",
      "Alpha: 0.011188  Progress: 55.25%  Words/thread/sec: 146.64k  \r",
      "Alpha: 0.011187  Progress: 55.26%  Words/thread/sec: 146.65k  \r",
      "Alpha: 0.011186  Progress: 55.26%  Words/thread/sec: 146.65k  \r",
      "Alpha: 0.011184  Progress: 55.27%  Words/thread/sec: 146.66k  \r",
      "Alpha: 0.011183  Progress: 55.27%  Words/thread/sec: 146.66k  \r",
      "Alpha: 0.011182  Progress: 55.28%  Words/thread/sec: 146.67k  \r",
      "Alpha: 0.011181  Progress: 55.28%  Words/thread/sec: 146.68k  "
     ]
    },
    {
     "name": "stdout",
     "output_type": "stream",
     "text": [
      "Alpha: 0.000021  Progress: 99.92%  Words/thread/sec: 143.63k   0.011166  Progress: 55.34%  Words/thread/sec: 146.66k  0.011045  Progress: 55.83%  Words/thread/sec: 147.19k  19  Progress: 55.93%  Words/thread/sec: 147.27k  a: 0.010984  Progress: 56.07%  Words/thread/sec: 147.45k    Progress: 56.44%  Words/thread/sec: 147.92k  41.45k  1%  Words/thread/sec: 141.42k  hread/sec: 141.46k  s/thread/sec: 141.64k  d/sec: 141.97k  Progress: 58.33%  Words/thread/sec: 142.20k  2.58k  Words/thread/sec: 142.87k   58.98%  Words/thread/sec: 142.91k  thread/sec: 143.09k  s: 59.33%  Words/thread/sec: 143.12k  ha: 0.010157  Progress: 59.38%  Words/thread/sec: 143.17k  ad/sec: 143.18k  /thread/sec: 143.39k  64  Progress: 59.75%  Words/thread/sec: 143.57k   143.85k  .009961  Progress: 60.16%  Words/thread/sec: 143.99k  rogress: 60.21%  Words/thread/sec: 144.06k  9919  Progress: 60.33%  Words/thread/sec: 144.20k   60.95%  Words/thread/sec: 144.97k  ords/thread/sec: 145.03k  45.10k  a: 0.009639  Progress: 61.45%  Words/thread/sec: 145.14k  0.009617  Progress: 61.54%  Words/thread/sec: 145.19k  : 0.009575  Progress: 61.70%  Words/thread/sec: 145.37k  hread/sec: 145.49k  .13%  Words/thread/sec: 145.72k  09455  Progress: 62.19%  Words/thread/sec: 145.76k  hread/sec: 145.79k   62.87%  Words/thread/sec: 146.47k  Progress: 63.07%  Words/thread/sec: 146.69k  ords/thread/sec: 146.86k  s/thread/sec: 147.37k  : 0.009065  Progress: 63.75%  Words/thread/sec: 147.43k  k  gress: 65.12%  Words/thread/sec: 148.97k  d/sec: 149.33k  48k  .88%  Words/thread/sec: 149.49k  ha: 0.008468  Progress: 66.13%  Words/thread/sec: 149.60k  7  Progress: 66.18%  Words/thread/sec: 149.58k  9.54k  /thread/sec: 149.60k  ad/sec: 149.64k  91k  0.09k  8276  Progress: 66.90%  Words/thread/sec: 150.30k  sec: 150.65k  a: 0.008060  Progress: 67.77%  Words/thread/sec: 151.28k  51.34k  ead/sec: 151.47k  ords/thread/sec: 151.78k  rds/thread/sec: 151.41k   Words/thread/sec: 150.37k  s/thread/sec: 150.42k   150.70k  s: 69.32%  Words/thread/sec: 150.78k  thread/sec: 150.95k   69.81%  Words/thread/sec: 150.24k  ss: 69.93%  Words/thread/sec: 149.23k  ress: 69.95%  Words/thread/sec: 148.97k  ress: 70.66%  Words/thread/sec: 143.93k  read/sec: 140.49k  c: 140.61k  a: 0.007103  Progress: 71.59%  Words/thread/sec: 140.75k  91%  Words/thread/sec: 141.06k  141.06k  : 73.11%  Words/thread/sec: 140.68k  141.52k  : 74.33%  Words/thread/sec: 141.68k   0.006400  Progress: 74.40%  Words/thread/sec: 141.66k  c: 140.96k  141.35k  78k   141.80k  ess: 76.47%  Words/thread/sec: 141.93k  ds/thread/sec: 141.96k  ec: 141.97k   Words/thread/sec: 141.99k   Progress: 76.60%  Words/thread/sec: 141.95k  sec: 142.00k  Progress: 77.01%  Words/thread/sec: 142.29k    Progress: 77.18%  Words/thread/sec: 142.46k    c: 142.66k  .09k  a: 0.005368  Progress: 78.53%  Words/thread/sec: 143.56k  : 78.61%  Words/thread/sec: 143.64k  a: 0.005267  Progress: 78.94%  Words/thread/sec: 143.84k  05176  Progress: 79.30%  Words/thread/sec: 144.08k  s/thread/sec: 144.20k  0%  Words/thread/sec: 144.27k  /sec: 144.40k  gress: 79.85%  Words/thread/sec: 144.43k  /sec: 144.44k  lpha: 0.005004  Progress: 79.99%  Words/thread/sec: 144.46k  ad/sec: 144.55k   0.004944  Progress: 80.23%  Words/thread/sec: 144.65k  gress: 80.33%  Words/thread/sec: 144.75k  04906  Progress: 80.38%  Words/thread/sec: 144.80k  lpha: 0.004863  Progress: 80.55%  Words/thread/sec: 144.93k  0.004586  Progress: 81.66%  Words/thread/sec: 145.83k  ec: 146.02k  13k  ess: 82.25%  Words/thread/sec: 146.19k  thread/sec: 146.20k  ec: 146.29k  32  Progress: 82.68%  Words/thread/sec: 146.31k  s/thread/sec: 146.91k  ress: 83.96%  Words/thread/sec: 146.53k  lpha: 0.003874  Progress: 84.51%  Words/thread/sec: 142.68k  ec: 142.67k    Progress: 84.67%  Words/thread/sec: 142.69k    Words/thread/sec: 142.70k  05%  Words/thread/sec: 142.91k  %  Words/thread/sec: 142.95k  ress: 85.27%  Words/thread/sec: 143.10k   0.003678  Progress: 85.29%  Words/thread/sec: 143.11k  59  Progress: 85.37%  Words/thread/sec: 143.17k  rogress: 85.83%  Words/thread/sec: 143.47k  rogress: 85.84%  Words/thread/sec: 143.48k  s/thread/sec: 143.52k  003512  Progress: 85.96%  Words/thread/sec: 143.53k  7%  Words/thread/sec: 143.55k  .17%  Words/thread/sec: 143.63k  ha: 0.003406  Progress: 86.38%  Words/thread/sec: 143.79k  90  Progress: 86.44%  Words/thread/sec: 143.84k  %  Words/thread/sec: 143.88k     Progress: 87.32%  Words/thread/sec: 144.33k    read/sec: 144.47k   87.53%  Words/thread/sec: 144.49k  ords/thread/sec: 144.59k  lpha: 0.002986  Progress: 88.06%  Words/thread/sec: 143.72k  ha: 0.002980  Progress: 88.08%  Words/thread/sec: 143.74k  ds/thread/sec: 143.77k  /sec: 143.78k   0.002907  Progress: 88.38%  Words/thread/sec: 143.80k  78k  ha: 0.002879  Progress: 88.49%  Words/thread/sec: 143.80k  pha: 0.002780  Progress: 88.88%  Words/thread/sec: 143.83k  sec: 143.89k  pha: 0.002711  Progress: 89.16%  Words/thread/sec: 143.98k  144.34k  2k  144.45k  ress: 89.84%  Words/thread/sec: 144.48k  02501  Progress: 90.00%  Words/thread/sec: 144.59k  hread/sec: 144.74k  ords/thread/sec: 144.97k  lpha: 0.002369  Progress: 90.53%  Words/thread/sec: 144.99k  145.42k  .002148  Progress: 91.41%  Words/thread/sec: 145.45k  s: 91.75%  Words/thread/sec: 144.87k  .002035  Progress: 91.86%  Words/thread/sec: 144.67k  : 91.96%  Words/thread/sec: 144.73k  983  Progress: 92.07%  Words/thread/sec: 144.76k  lpha: 0.001956  Progress: 92.18%  Words/thread/sec: 144.84k  gress: 92.33%  Words/thread/sec: 144.89k  ec: 144.96k  thread/sec: 145.08k  3.06%  Words/thread/sec: 145.24k  145.68k  sec: 146.08k  ds/thread/sec: 146.15k  : 0.001361  Progress: 94.56%  Words/thread/sec: 146.23k   Progress: 95.00%  Words/thread/sec: 146.58k  ds/thread/sec: 147.12k   147.17k  %  Words/thread/sec: 147.26k   96.73%  Words/thread/sec: 147.06k  rds/thread/sec: 145.99k  .000718  Progress: 97.13%  Words/thread/sec: 144.48k  000713  Progress: 97.15%  Words/thread/sec: 144.49k  ds/thread/sec: 143.68k  .000630  Progress: 97.49%  Words/thread/sec: 142.74k  ress: 97.83%  Words/thread/sec: 142.90k  97.93%  Words/thread/sec: 142.95k  6k  74  Progress: 98.11%  Words/thread/sec: 143.00k  a: 0.000455  Progress: 98.19%  Words/thread/sec: 143.06k  0.000440  Progress: 98.24%  Words/thread/sec: 143.11k  Progress: 98.39%  Words/thread/sec: 143.19k   Progress: 98.41%  Words/thread/sec: 143.19k  ad/sec: 143.22k  ogress: 99.26%  Words/thread/sec: 143.67k  rogress: 99.68%  Words/thread/sec: 143.93k   143.86k  "
     ]
    }
   ],
   "source": [
    "#轉word2vec向量\n",
    "import word2vec\n",
    "\n",
    "word2vec.word2vec('corpusSegDone.txt', 'corpusWord2Vec.txt', size = 300, verbose = True)"
   ]
  },
  {
   "cell_type": "code",
   "execution_count": 6,
   "id": "ba424103",
   "metadata": {},
   "outputs": [],
   "source": [
    "#載入模組\n",
    "model = word2vec.load('corpusWord2Vec.txt')"
   ]
  },
  {
   "cell_type": "code",
   "execution_count": 13,
   "id": "2f5c1c29",
   "metadata": {},
   "outputs": [],
   "source": [
    "#計算相似度\n",
    "import numpy as np\n",
    "\n",
    "word = '日本'\n",
    "n = 20\n",
    "\n",
    "metrics = np.dot(model.vectors, model[word].T)\n",
    "best = np.argsort(metrics)[::-1][1:n+1]"
   ]
  },
  {
   "cell_type": "code",
   "execution_count": 14,
   "id": "099e9aac",
   "metadata": {},
   "outputs": [
    {
     "name": "stdout",
     "output_type": "stream",
     "text": [
      "1 .  日本政府\n",
      "2 .  伊豆\n",
      "3 .  廣島\n",
      "4 .  福岡縣\n",
      "5 .  香川\n",
      "6 .  韓國\n",
      "7 .  和歌山\n",
      "8 .  京都\n",
      "9 .  山梨\n",
      "10 .  奈良\n",
      "11 .  北九州\n",
      "12 .  千葉縣\n",
      "13 .  九州\n",
      "14 .  近畿\n",
      "15 .  兵庫\n",
      "16 .  愛媛縣\n",
      "17 .  東京帝\n",
      "18 .  土佐\n",
      "19 .  關西\n",
      "20 .  靜岡縣\n"
     ]
    }
   ],
   "source": [
    "#輸出結果\n",
    "num = 1\n",
    "for index in best:\n",
    "    print(num, '. ', model.vocab[index])\n",
    "    num = num + 1"
   ]
  }
 ],
 "metadata": {
  "kernelspec": {
   "display_name": "Python 3",
   "language": "python",
   "name": "python3"
  },
  "language_info": {
   "codemirror_mode": {
    "name": "ipython",
    "version": 3
   },
   "file_extension": ".py",
   "mimetype": "text/x-python",
   "name": "python",
   "nbconvert_exporter": "python",
   "pygments_lexer": "ipython3",
   "version": "3.8.8"
  }
 },
 "nbformat": 4,
 "nbformat_minor": 5
}
