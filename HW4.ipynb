{
 "cells": [
  {
   "cell_type": "code",
   "execution_count": 22,
   "id": "555f7b35",
   "metadata": {},
   "outputs": [],
   "source": [
    "#讀檔\n",
    "import json\n",
    "\n",
    "text = []\n",
    "for i in range(65,78):\n",
    "    range_2 = 10\n",
    "    if i == 77:\n",
    "        range_2 = 8\n",
    "    for j in range(range_2):\n",
    "        range_3 = 10\n",
    "        if i == 77 and j == 7:\n",
    "            range_3 = 4\n",
    "        for l in range(range_3):\n",
    "            path = 'wiki_zh/A' + chr(i) + '/wiki_' + str(j) + str(l)\n",
    "\n",
    "            input_file = open(path, encoding = 'utf8')\n",
    "            for line in input_file.readlines():\n",
    "                text.append(json.loads(line))\n",
    "            input_file.close()\n",
    "            "
   ]
  },
  {
   "cell_type": "code",
   "execution_count": 21,
   "id": "236f98c4",
   "metadata": {},
   "outputs": [
    {
     "name": "stdout",
     "output_type": "stream",
     "text": [
      "{'id': '6458563', 'url': 'https://zh.wikipedia.org/wiki?curid=6458563', 'title': '拜先祖 (中式婚礼)', 'text': '拜先祖 (中式婚礼)\\n\\n拜先祖是指传统中式婚礼中，新人因一些特殊情形而无法一起行婚后礼中的庙见礼，诸如藩王之子入京为质、官员外放履职或受贬异地、使节出使外国、学子外出游学、商人长途经商、将士戊边出征、水手出海远航之类，为了遵循天大于人之则，这类情况下男方迎亲出发前并不祭祖，而于拜堂时拜祭先祖以及敬拜其在世配偶。这种婚俗礼仪形成的原因是中国传统文化中，妻子不仅仅是只须事奉公婆和繁衍后代，祭祀先人也为其更重要的职责，因此新人须一起同拜祖先以代表先人、宗族和家庭对婚姻的认可。而男方不亲迎时，也有拜先祖这项婚俗礼仪，原因是亲迎时，男方在新郎去女方家接新娘之前已于新郎出发前在新郎家里祭过祖了，而在同一婚礼中，先祖不能多次重复受祭；肇因先人再大也不能比天大，祭天只能祭一次，所以新郎的先人的受祭次数绝不能超过上天或神明的受祭次数。因此，在中国传统婚礼中，只有单顶娶时拜堂才拜先祖。此俗和新娘上轿以伞和米筛遮人敬天一样，再次体现了农耕社会中靠天吃饭，中国民间因此尊崇自然，认为天比人大的传统信仰。\\n\\n现代华人社会由于生活节奏紧张、人口流动频繁和工作需要，新人多在其供职当地结婚，鲜少能依旧例返回原籍于家族祠堂中行庙见礼，所以当代中式婚礼中，拜堂时拜先祖之比例较过去有所提高。如新娘有孕在身，旧时是不能向祖先磕头的，磕头意味对祖先不敬，只能作揖或鞠躬。\\n\\n祖宗牌位须位于神像之下、之前，辈份低的先祖牌位须位于辈份高的先祖牌位之下、之前。拜先祖时新人须三跪六磕(即每次下跪时磕俩头)，依次叩拜新郎祖父、曾祖父、高祖父、天祖父、烈祖父、太祖父、远祖父和鼻祖父之牌位，或其本人，如某位新郎的长辈尚健在的话(例如新郎的祖父)。鼻祖父之前的所有先人则只需一起叩拜一次。新人叩拜每位先祖牌位时须同时叩拜其配偶牌位，先男后女，但叩拜已逝的女性先人时只限于元配、平妻、和填房，妾无牌位，所以不拜妾，此乃封建礼教中嫡庶尊卑，等级分明之故。如某位新郎先祖的配偶们尚健在，则包括妾在内的所有配偶不分嫡庶都须接受新人叩拜，先嫡后庶，肇因活人不同于死人牌位；但如新郎生母被休且尚健在，她也决不能于亲生儿子婚礼时回到前夫家受新人叩拜。大部分地区拜先祖时，赞礼会同时吟吉语，例如：“祖宗家业喜相传，喜得后代福庆绵。新婚夫妇参祖后，流芳百世子孙贤。”须注意的是在传统中式婚礼中，并非所有婚礼拜堂时都拜先祖，\\n'}\n",
      "-----------------------------\n",
      "{'id': '6458563', 'url': 'https://zh.wikipedia.org/wiki?curid=6458563', 'title': '拜先祖 (中式婚禮)', 'text': '拜先祖 (中式婚禮)\\n\\n拜先祖是指傳統中式婚禮中，新人因一些特殊情形而無法一起行婚後禮中的廟見禮，諸如藩王之子入京爲質、官員外放履職或受貶異地、使節出使外國、學子外出遊學、商人長途經商、將士戊邊出征、水手出海遠航之類，爲了遵循天大於人之則，這類情況下男方迎親出發前並不祭祖，而於拜堂時拜祭先祖以及敬拜其在世配偶。這種婚俗禮儀形成的原因是中國傳統文化中，妻子不僅僅是隻須事奉公婆和繁衍後代，祭祀先人也爲其更重要的職責，因此新人須一起同拜祖先以代表先人、宗族和家庭對婚姻的認可。而男方不親迎時，也有拜先祖這項婚俗禮儀，原因是親迎時，男方在新郎去女方家接新娘之前已於新郎出發前在新郎家裏祭過祖了，而在同一婚禮中，先祖不能多次重複受祭；肇因先人再大也不能比天大，祭天只能祭一次，所以新郎的先人的受祭次數絕不能超過上天或神明的受祭次數。因此，在中國傳統婚禮中，只有單頂娶時拜堂才拜先祖。此俗和新娘上轎以傘和米篩遮人敬天一樣，再次體現了農耕社會中靠天吃飯，中國民間因此尊崇自然，認爲天比人大的傳統信仰。\\n\\n現代華人社會由於生活節奏緊張、人口流動頻繁和工作需要，新人多在其供職當地結婚，鮮少能依舊例返回原籍於家族祠堂中行廟見禮，所以當代中式婚禮中，拜堂時拜先祖之比例較過去有所提高。如新娘有孕在身，舊時是不能向祖先磕頭的，磕頭意味對祖先不敬，只能作揖或鞠躬。\\n\\n祖宗牌位須位於神像之下、之前，輩份低的先祖牌位須位於輩份高的先祖牌位之下、之前。拜先祖時新人須三跪六磕(即每次下跪時磕倆頭)，依次叩拜新郎祖父、曾祖父、高祖父、天祖父、烈祖父、太祖父、遠祖父和鼻祖父之牌位，或其本人，如某位新郎的長輩尚健在的話(例如新郎的祖父)。鼻祖父之前的所有先人則只需一起叩拜一次。新人叩拜每位先祖牌位時須同時叩拜其配偶牌位，先男後女，但叩拜已逝的女性先人時只限於元配、平妻、和填房，妾無牌位，所以不拜妾，此乃封建禮教中嫡庶尊卑，等級分明之故。如某位新郎先祖的配偶們尚健在，則包括妾在內的所有配偶不分嫡庶都須接受新人叩拜，先嫡後庶，肇因活人不同於死人牌位；但如新郎生母被休且尚健在，她也決不能於親生兒子婚禮時回到前夫家受新人叩拜。大部分地區拜先祖時，贊禮會同時吟吉語，例如：“祖宗家業喜相傳，喜得後代福慶綿。新婚夫婦參祖後，流芳百世子孫賢。”須注意的是在傳統中式婚禮中，並非所有婚禮拜堂時都拜先祖，\\n'}\n"
     ]
    }
   ],
   "source": [
    "#簡轉繁\n",
    "from opencc import OpenCC\n",
    "\n",
    "cc = OpenCC('s2t')\n",
    "\n",
    "for item in text:\n",
    "    item['title'] = cc.convert(item['title'])\n",
    "    item['text'] = cc.convert(item['text'])"
   ]
  },
  {
   "cell_type": "code",
   "execution_count": null,
   "id": "9b1231e8",
   "metadata": {},
   "outputs": [],
   "source": [
    "# 斷詞\n",
    "fileTrainSeg=[]\n",
    "for i in text:\n",
    "    fileTrainSeg.append([' '.join(list(jieba.cut(i['text'],cut_all=False)))])"
   ]
  },
  {
   "cell_type": "code",
   "execution_count": null,
   "id": "5caa8250",
   "metadata": {},
   "outputs": [],
   "source": [
    "fileSegWordDonePath ='corpusSegDone.txt'\n",
    "with open(fileSegWordDonePath,'wb') as fW:\n",
    "    for i in range(len(fileTrainSeg)):\n",
    "        fW.write(fileTrainSeg[i][0].encode('utf-8'))\n",
    "        fW.write('\\n')"
   ]
  },
  {
   "cell_type": "code",
   "execution_count": null,
   "id": "8d6e8652",
   "metadata": {},
   "outputs": [],
   "source": [
    "import word2vec\n",
    "# jieba分詞轉word2vec向量\n",
    "word2vec.word2vec('corpusSegDone.txt', 'corpusWord2Vec.bin', size=300,verbose=True)"
   ]
  },
  {
   "cell_type": "code",
   "execution_count": null,
   "id": "6ff7bec6",
   "metadata": {},
   "outputs": [],
   "source": [
    "model = word2vec.load('corpusWord2Vec.bin')\n",
    "indexes = model.cosine(u'畢業') # 此字詞有出現在corpusWord2Vec.bin當中\n",
    "for index in indexes[0]:\n",
    "    print model.vocab[index]"
   ]
  }
 ],
 "metadata": {
  "kernelspec": {
   "display_name": "Python 3",
   "language": "python",
   "name": "python3"
  },
  "language_info": {
   "codemirror_mode": {
    "name": "ipython",
    "version": 3
   },
   "file_extension": ".py",
   "mimetype": "text/x-python",
   "name": "python",
   "nbconvert_exporter": "python",
   "pygments_lexer": "ipython3",
   "version": "3.8.8"
  }
 },
 "nbformat": 4,
 "nbformat_minor": 5
}
